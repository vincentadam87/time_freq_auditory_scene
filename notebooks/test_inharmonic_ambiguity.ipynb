{
 "metadata": {
  "name": "",
  "signature": "sha256:0f1828f8b403564e459cbcb69e1bf3c557d98cd8135999622f0b5ef1882183c2"
 },
 "nbformat": 3,
 "nbformat_minor": 0,
 "worksheets": [
  {
   "cells": [
    {
     "cell_type": "code",
     "collapsed": false,
     "input": [
      "import os, sys\n",
      "import copy\n",
      "import numpy as np\n",
      "parent_folder = os.path.split(os.path.abspath('.'))[0]\n",
      "sys.path.append(parent_folder)\n",
      "from TimeFreqAuditoryScene import *\n",
      "from IPython.display import Audio, display, clear_output\n",
      "%matplotlib inline"
     ],
     "language": "python",
     "metadata": {},
     "outputs": []
    },
    {
     "cell_type": "markdown",
     "metadata": {},
     "source": [
      "## Testing inharmonic ambiguity (ambiguity in terms of proximity in log space)"
     ]
    },
    {
     "cell_type": "code",
     "collapsed": false,
     "input": [
      "# Parameterization\n",
      "# Global parameters\n",
      "fs = 44100\n",
      "delay = 1./8.\n",
      "duration = 1./8.\n",
      "mu_log=np.log(500)\n",
      "sigma_log=2.\n",
      "genv = GaussianSpectralEnvelope(mu_log=mu_log, sigma_log=sigma_log)\n"
     ],
     "language": "python",
     "metadata": {},
     "outputs": []
    },
    {
     "cell_type": "code",
     "collapsed": false,
     "input": [
      "duration=0.5\n",
      "delay=0.01\n",
      "fb = np.random.rand()\n",
      "\n",
      "n_tones = 20\n",
      "intervals_st = np.random.randint(12,13,n_tones)\n",
      "intervals_st2 = 0.5*(intervals_st[0:-1]+intervals_st[1:])\n",
      "\n",
      "print intervals_st[0]/2./12.\n",
      "print intervals_st\n",
      "scene = Scene()\n",
      "tone1 = Chord(fb=fb,\n",
      "              intervals=2.**(intervals_st/12.),\n",
      "              duration=duration,\n",
      "              env=genv)\n",
      "tone2 = Chord(fb=fb*2.**(intervals_st[0]/2./12.),\n",
      "              intervals=2.**(intervals_st2/12.),\n",
      "              duration=duration,\n",
      "              env=genv,\n",
      "              delay=duration + delay)\n",
      "\n",
      "scene.List=[tone1,tone2]\n",
      "\n",
      "\n",
      "# draw spectrogram\n",
      "fig = scene.draw_spectrogram()\n",
      "plt.show()\n",
      "# generate sound\n",
      "x = scene.generate(fs=fs)\n",
      "display(Audio(x, rate=fs, autoplay=True))"
     ],
     "language": "python",
     "metadata": {},
     "outputs": []
    }
   ],
   "metadata": {}
  }
 ]
}