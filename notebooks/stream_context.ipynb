{
 "metadata": {
  "name": "",
  "signature": "sha256:2042c15135d4f11367fd0464d7f99906d700fa4c691ac753ad5570e013f773d3"
 },
 "nbformat": 3,
 "nbformat_minor": 0,
 "worksheets": [
  {
   "cells": [
    {
     "cell_type": "code",
     "collapsed": false,
     "input": [
      "import os, sys\n",
      "import numpy as np\n",
      "parent_folder = os.path.split(os.path.abspath('.'))[0]\n",
      "sys.path.append(parent_folder)\n",
      "from TimeFreqAuditoryScene import *\n",
      "from IPython.display import Audio, display, clear_output\n",
      "from IPython.html import widgets\n",
      "from IPython.html.widgets import interactive\n",
      "%matplotlib inline"
     ],
     "language": "python",
     "metadata": {},
     "outputs": []
    },
    {
     "cell_type": "code",
     "collapsed": false,
     "input": [
      "## Generating Shepard tones from coupled streams\n",
      "fs = 44100\n",
      "\n",
      "interval=2.\n",
      "n_tones=20\n",
      "mu_log=np.log(200)\n",
      "sigma_log=2.\n",
      "genv = GaussianSpectralEnvelope(mu_log=mu_log, sigma_log=sigma_log)\n",
      "\n",
      "\n",
      "scene = Scene()\n",
      "band=[200.,300.]\n",
      "freqs = list( band[0]* (band[1]/band[0])**np.random.rand(n_tones,)  )\n",
      "for i in range(-5,5):\n",
      "    ts = ToneSequence(freqs=freqs,env=genv, intertone_delay=0,tone_duration=0.1)\n",
      "    ts.shift_tones(shift=interval**i)\n",
      "    scene.List.append(ts)\n",
      "scene.List\n",
      "scene.draw_spectrogram()\n",
      "x = scene.generate(fs=fs)\n",
      "print x.shape\n",
      "\n",
      "display(Audio(x, rate=fs, autoplay=True))"
     ],
     "language": "python",
     "metadata": {},
     "outputs": []
    },
    {
     "cell_type": "code",
     "collapsed": false,
     "input": [
      "## Generating independent Uniform banded streams of tones \n",
      "\n",
      "fs = 44100\n",
      "mu_log=np.log(200)\n",
      "sigma_log=2.\n",
      "genv = GaussianSpectralEnvelope(mu_log=mu_log, sigma_log=sigma_log)\n",
      "interval=2.\n",
      "n_tones = 20\n",
      "\n",
      "\n",
      "fmin = 100.\n",
      "fmax = fmin*np.sqrt(interval)\n",
      "scene = Scene()\n",
      "for i in range(-5,5):\n",
      "    ts = UniformToneSequence(n_tones=n_tones,tone_duration=0.1, intertone_delay=0.,band=[fmin*interval**i, fmax*interval**i],env=genv)\n",
      "    scene.List.append(ts)\n",
      "scene.List\n",
      "scene.draw_spectrogram()\n",
      "x = scene.generate(fs=fs)\n",
      "print x.shape\n",
      "\n",
      "display(Audio(x, rate=fs, autoplay=True))"
     ],
     "language": "python",
     "metadata": {},
     "outputs": []
    },
    {
     "cell_type": "code",
     "collapsed": false,
     "input": [
      "[fmin,fmax]"
     ],
     "language": "python",
     "metadata": {},
     "outputs": []
    },
    {
     "cell_type": "code",
     "collapsed": false,
     "input": [],
     "language": "python",
     "metadata": {},
     "outputs": []
    }
   ],
   "metadata": {}
  }
 ]
}