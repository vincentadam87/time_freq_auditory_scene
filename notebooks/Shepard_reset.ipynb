{
 "metadata": {
  "name": "",
  "signature": "sha256:93f8b034e8fda0e78d9daa365b24c1dd72ce0c6c549fef65cc9562a0975ec3aa"
 },
 "nbformat": 3,
 "nbformat_minor": 0,
 "worksheets": [
  {
   "cells": [
    {
     "cell_type": "code",
     "collapsed": false,
     "input": [
      "import os, sys\n",
      "import numpy as np\n",
      "parent_folder = os.path.split(os.path.abspath('.'))[0]\n",
      "sys.path.append(parent_folder)\n",
      "from TimeFreqAuditoryScene import *\n",
      "from IPython.display import Audio, display, clear_output\n",
      "from IPython.html import widgets\n",
      "from IPython.html.widgets import interactive\n",
      "%matplotlib inline"
     ],
     "language": "python",
     "metadata": {},
     "outputs": []
    },
    {
     "cell_type": "markdown",
     "metadata": {},
     "source": [
      "## Shepard tones testing the reset effect"
     ]
    },
    {
     "cell_type": "code",
     "collapsed": false,
     "input": [
      "# Parameterization\n",
      "# Global parameters\n",
      "fs = 44100\n",
      "# Shepard tones\n",
      "short_delay = 0.1\n",
      "delay =0.1\n",
      "duration = 1./8.\n",
      "mu_log=np.log(200)\n",
      "sigma_log=2.\n",
      "fb1 = 12.\n",
      "fb2 = fb1*np.sqrt(2.)\n",
      "# sequence\n",
      "n_sequence = 26\n",
      "st_step = 3"
     ],
     "language": "python",
     "metadata": {},
     "outputs": []
    },
    {
     "cell_type": "code",
     "collapsed": false,
     "input": [
      "def reset(st_step, delay):\n",
      "    scene = Scene()\n",
      "    # declare gaussian envelope on log frequency\n",
      "    genv = GaussianSpectralEnvelope(mu_log=mu_log, sigma_log=sigma_log)\n",
      "\n",
      "    run_time = 0\n",
      "\n",
      "    # Constructing the sequence\n",
      "    sequence = []\n",
      "\n",
      "    for i in range(n_sequence):\n",
      "        tmp_st = ShepardTone(fb=fb1*2.**(i*st_step/12.), env=genv, delay=run_time, duration=duration)\n",
      "        run_time += duration + delay\n",
      "        sequence.append(tmp_st)\n",
      "        # uncomment for repetition\n",
      "        #tmp_st = ShepardTone(fb=fb1*2.**(i*st_step/12.), env=genv, delay=run_time, duration=duration)\n",
      "        #run_time += duration + short_delay\n",
      "        #sequence.append(tmp_st)\n",
      "\n",
      "\n",
      "    scene.List = sequence\n",
      "\n",
      "\n",
      "    # draw spectrogram\n",
      "    fig = scene.draw_spectrogram()\n",
      "    plt.show()\n",
      "\n",
      "    # generate sound\n",
      "    x = scene.generate(fs=fs)\n",
      "    display(Audio(x, rate=fs, autoplay=True))\n"
     ],
     "language": "python",
     "metadata": {},
     "outputs": []
    },
    {
     "cell_type": "code",
     "collapsed": false,
     "input": [
      "w = interactive(reset, st_step=(-6,6), delay=(0.,5.))\n",
      "display(w)"
     ],
     "language": "python",
     "metadata": {},
     "outputs": []
    }
   ],
   "metadata": {}
  }
 ]
}