{
 "metadata": {
  "name": "",
  "signature": "sha256:a34349fe231bdb441a9d01b3f61e0fa7cde1adda90d0946f786abd2e1a2db69e"
 },
 "nbformat": 3,
 "nbformat_minor": 0,
 "worksheets": [
  {
   "cells": [
    {
     "cell_type": "code",
     "collapsed": false,
     "input": [
      "import os, sys\n",
      "parent_folder = os.path.split(os.path.abspath('.'))[0]\n",
      "sys.path.append(parent_folder)\n",
      "from TimeFreqAuditoryScene import *\n",
      "from IPython.display import Audio, display, clear_output\n",
      "from IPython.html import widgets\n",
      "from IPython.html.widgets import interactive\n",
      "%matplotlib inline"
     ],
     "language": "python",
     "metadata": {},
     "outputs": []
    },
    {
     "cell_type": "code",
     "collapsed": false,
     "input": [
      "fs = 44100\n",
      "duration_shepard = 0.2\n",
      "delay = 0.1\n",
      "delay_tritone = 0.1\n",
      "fb1 = 1.\n",
      "k = -0.2\n",
      "dt = np.abs((1./k)*np.log(2.))\n",
      "duration_context = 8\n",
      "\n",
      "genv = GaussianSpectralEnvelope(mu_log=5., sigma_log=2.)\n",
      "\n",
      "scene = Scene()\n",
      "\n",
      "# Constructing the scene\n",
      "run_time = 0\n",
      "# building context\n",
      "shep_risset = ShepardRisset(fb_end=fb1, env=genv, duration=duration_context, k=k)\n",
      "run_time += duration_context + delay_tritone\n",
      "\n",
      "# building tritone\n",
      "tone1 = ShepardTone(fb=fb1, env=genv, delay=run_time, duration=duration_shepard)\n",
      "run_time += duration_shepard + delay\n",
      "tone2 = ShepardTone(fb=fb1*2**(-6./12.), env=genv, delay=run_time, duration=duration_shepard)\n",
      "\n",
      "scene.List = [shep_risset] +[tone1, tone2]\n",
      "\n",
      "# generate sound\n",
      "x = scene.generate(fs=fs)\n",
      "display(Audio(x, rate=fs, autoplay=True))\n",
      "fig = scene.draw_spectrogram()\n",
      "plt.show()"
     ],
     "language": "python",
     "metadata": {},
     "outputs": []
    },
    {
     "cell_type": "code",
     "collapsed": false,
     "input": [
      "import numpy as np\n",
      "from scipy.io.wavfile import write\n",
      "\n",
      "data = np.random.uniform(-1,1,44100) # 44100 random samples between -1 and 1\n",
      "\n",
      "duration_context=3\n",
      "fb1 = 1\n",
      "\n",
      "for sign in [-1.5,1.5]:\n",
      "    type = 'up' if sign>1 else 'down'\n",
      "    for fbc in fb1*np.exp(np.linspace(0,np.log(2),6)):\n",
      "        print fbc\n",
      "\n",
      "        scene = Scene()\n",
      "\n",
      "        # Constructing the scene\n",
      "        run_time = 0\n",
      "        # building context\n",
      "        shep_risset = ShepardRisset(fb=fbc, env=genv, duration=duration_context, k=sign)\n",
      "        run_time += duration_context + delay_tritone\n",
      "\n",
      "        # building tritone\n",
      "        tone1 = ShepardTone(fb=fb1, env=genv, delay=run_time, duration=duration_shepard)\n",
      "        run_time += duration_shepard + delay\n",
      "        tone2 = ShepardTone(fb=fb1*2**(-6./12.), env=genv, delay=run_time, duration=duration_shepard)\n",
      "\n",
      "        scene.List = [shep_risset] +[tone1, tone2]\n",
      "\n",
      "        # generate sound\n",
      "        x = scene.generate(fs=fs)\n",
      "        plt.plot(x)\n",
      "        scaled = np.int16(x/np.max(np.abs(x)) * 32767)\n",
      "        write('glissandofb'+str(int(fbc*100))+type+'.wav', 44100, scaled)\n"
     ],
     "language": "python",
     "metadata": {},
     "outputs": []
    },
    {
     "cell_type": "code",
     "collapsed": false,
     "input": [],
     "language": "python",
     "metadata": {},
     "outputs": []
    }
   ],
   "metadata": {}
  }
 ]
}