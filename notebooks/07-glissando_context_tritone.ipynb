{
 "metadata": {
  "name": "",
  "signature": "sha256:fbd31f41b690e5b89b59e82b4e7027ce4361df34cfae2c989a494512fbf1f508"
 },
 "nbformat": 3,
 "nbformat_minor": 0,
 "worksheets": [
  {
   "cells": [
    {
     "cell_type": "code",
     "collapsed": false,
     "input": [
      "import os, sys\n",
      "parent_folder = os.path.split(os.path.abspath('.'))[0]\n",
      "sys.path.append(parent_folder)\n",
      "from TimeFreqAuditoryScene import *\n",
      "from IPython.display import Audio, display, clear_output\n",
      "from IPython.html import widgets\n",
      "from IPython.html.widgets import interactive\n",
      "%matplotlib inline"
     ],
     "language": "python",
     "metadata": {},
     "outputs": []
    },
    {
     "cell_type": "code",
     "collapsed": false,
     "input": [
      "fs = 44100\n",
      "duration_shepard = 0.2\n",
      "delay = 0.1\n",
      "delay_tritone = 0.1\n",
      "fb1 = 1.\n",
      "k = -0.5\n",
      "dt = np.abs((1./k)*np.log(2.))\n",
      "duration_context = 8\n",
      "genv = GaussianSpectralEnvelope(mu_log=5., sigma_log=2.)\n",
      "\n",
      "scene = Scene()\n",
      "\n",
      "# Constructing the scene\n",
      "run_time = 0\n",
      "# building context\n",
      "shep_risset = ShepardRisset(fb_end=fb1, env=genv, duration=duration_context, k=k)\n",
      "run_time += duration_context + delay_tritone\n",
      "\n",
      "# building tritone\n",
      "tone1 = ShepardTone(fb=fb1, env=genv, delay=run_time, duration=duration_shepard)\n",
      "run_time += duration_shepard + delay\n",
      "tone2 = ShepardTone(fb=fb1*2**(-6./12.), env=genv, delay=run_time, duration=duration_shepard)\n",
      "\n",
      "scene.add([shep_risset,tone1, tone2])\n",
      "\n",
      "# generate sound\n",
      "x = scene.generate(fs=fs)\n",
      "display(Audio(x, rate=fs, autoplay=True))\n",
      "# draw spectrogram\n",
      "sd = SceneDrawer()\n",
      "sd.draw(scene)\n",
      "plt.show()"
     ],
     "language": "python",
     "metadata": {},
     "outputs": []
    }
   ],
   "metadata": {}
  }
 ]
}