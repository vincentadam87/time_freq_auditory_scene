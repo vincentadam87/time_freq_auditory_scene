{
 "metadata": {
  "name": "",
  "signature": "sha256:cb44797f5ec0c428071708270279133a9d10c41cebf77a84cbcd6bdc4c258d0f"
 },
 "nbformat": 3,
 "nbformat_minor": 0,
 "worksheets": [
  {
   "cells": [
    {
     "cell_type": "code",
     "collapsed": false,
     "input": [
      "import os, sys\n",
      "import copy\n",
      "\n",
      "from TimeFreqAuditoryScene import *\n",
      "from IPython.display import Audio, display, clear_output\n",
      "%matplotlib inline"
     ],
     "language": "python",
     "metadata": {},
     "outputs": [],
     "prompt_number": 6
    },
    {
     "cell_type": "code",
     "collapsed": false,
     "input": [
      "# Parameterization\n",
      "# Global parameters\n",
      "fs = 44100\n",
      "delay = 1./8.\n",
      "duration = 1./8.\n",
      "mu_log=np.log(500)\n",
      "sigma_log=2.\n",
      "genv = GaussianSpectralEnvelope(mu_log=mu_log, sigma_log=sigma_log)"
     ],
     "language": "python",
     "metadata": {},
     "outputs": []
    },
    {
     "cell_type": "markdown",
     "metadata": {},
     "source": [
      "## The Huh tone: sequence of chord with the next chord half way between the previous one"
     ]
    },
    {
     "cell_type": "code",
     "collapsed": false,
     "input": [
      "duration=0.5\n",
      "delay=0.1\n",
      "\n",
      "n_tones = 10\n",
      "fb = 10\n",
      "\n",
      "# generating sequence of intervals\n",
      "intervals_seq = []\n",
      "intervals_st = np.random.randint(1,20,n_tones)\n",
      "#intervals_st = 6.*np.ones(n_tones)\n",
      "\n",
      "intervals_seq = [intervals_st]\n",
      "fb_seq = [fb]\n",
      "\n",
      "while (len(intervals_seq[-1])>1):\n",
      "    tmp_int = np.asarray(intervals_seq[-1])\n",
      "    if len(tmp_int)>2:\n",
      "        intervals_seq.append( 0.5*(tmp_int[0:-1]+tmp_int[1:]))\n",
      "    else:\n",
      "        intervals_seq.append( np.array([np.mean(tmp_int)]))\n",
      "\n",
      "fb_seq = [fb]\n",
      "for i in range(len(intervals_seq)):\n",
      "    first_interval = intervals_seq[i][0]\n",
      "    fb_seq.append(fb_seq[-1]*2.**(first_interval/12./2.))\n",
      "\n",
      "scene = Scene()\n",
      "run_time = 0.\n",
      "for i in range(len(intervals_seq)):\n",
      "    tone = Chord(fb=fb_seq[i],\n",
      "              intervals=2.**(intervals_seq[i]/12.),\n",
      "              duration=duration,\n",
      "              delay=run_time,\n",
      "              env=genv)\n",
      "    scene.add(tone)\n",
      "    run_time += duration + delay\n",
      "\n",
      "\n",
      "# draw spectrogram\n",
      "sd = SceneDrawer()\n",
      "sd.draw(scene)\n",
      "plt.show()\n",
      "# generate sound\n",
      "x = scene.generate(fs=fs)\n",
      "display(Audio(x, rate=fs, autoplay=True))\n",
      "\n"
     ],
     "language": "python",
     "metadata": {},
     "outputs": []
    }
   ],
   "metadata": {}
  }
 ]
}