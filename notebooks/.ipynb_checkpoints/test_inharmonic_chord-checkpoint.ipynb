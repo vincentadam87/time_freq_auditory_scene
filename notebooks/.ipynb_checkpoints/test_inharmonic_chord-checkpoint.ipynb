{
 "metadata": {
  "name": "",
  "signature": "sha256:bec99462bd0ca19574328e7a356575502971bd3b46d5fc373888c081500333d4"
 },
 "nbformat": 3,
 "nbformat_minor": 0,
 "worksheets": [
  {
   "cells": [
    {
     "cell_type": "code",
     "collapsed": false,
     "input": [
      "import os, sys\n",
      "import copy\n",
      "\n",
      "parent_folder = os.path.split(os.path.abspath('.'))[0]\n",
      "sys.path.append(parent_folder)\n",
      "from TimeFreqAuditoryScene import *\n",
      "from IPython.display import Audio, display, clear_output\n",
      "%matplotlib inline"
     ],
     "language": "python",
     "metadata": {},
     "outputs": []
    },
    {
     "cell_type": "markdown",
     "metadata": {},
     "source": [
      "## Generating inharmonic chords"
     ]
    },
    {
     "cell_type": "code",
     "collapsed": false,
     "input": [
      "# Parameterization\n",
      "# Global parameters\n",
      "fs = 44100\n",
      "delay = 1./8.\n",
      "duration = 1./8.\n",
      "mu_log=np.log(500)\n",
      "sigma_log=2.\n",
      "genv = GaussianSpectralEnvelope(mu_log=mu_log, sigma_log=sigma_log)\n"
     ],
     "language": "python",
     "metadata": {},
     "outputs": []
    },
    {
     "cell_type": "code",
     "collapsed": false,
     "input": [
      "duration=0.1\n",
      "delay=0.05\n",
      "fb = 10.\n",
      "\n",
      "n_tones = 18\n",
      "intervals_st = np.random.randint(6,12,n_tones)\n",
      "shifts_st = (np.random.rand(n_tones)>0.5)*2-1\n",
      "print shifts_st\n",
      "print intervals_st\n",
      "scene = Scene()\n",
      "tone1 = Chord(fb=fb,\n",
      "              intervals=2.**(intervals_st/12.),\n",
      "              duration=duration,\n",
      "              env=genv)\n",
      "\n",
      "tone2 = Chord(chord=tone1)\n",
      "tone2.delay += duration + delay\n",
      "tone2.shift_tones(2.**(shifts_st/12.))\n",
      "\n",
      "scene.List=[tone1,tone2]\n",
      "\n",
      "\n",
      "# draw spectrogram\n",
      "fig = scene.draw_spectrogram()\n",
      "plt.show()\n",
      "# generate sound\n",
      "x = scene.generate(fs=fs)\n",
      "display(Audio(x, rate=fs, autoplay=True))\n",
      "\n"
     ],
     "language": "python",
     "metadata": {},
     "outputs": []
    },
    {
     "cell_type": "code",
     "collapsed": false,
     "input": [
      "np.random.randint(5,10,2)"
     ],
     "language": "python",
     "metadata": {},
     "outputs": []
    }
   ],
   "metadata": {}
  }
 ]
}