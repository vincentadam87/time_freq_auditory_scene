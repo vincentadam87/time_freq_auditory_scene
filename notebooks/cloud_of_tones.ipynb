{
 "metadata": {
  "name": "",
  "signature": "sha256:0f718c6ab701351593b7281f79bcbbb4380f0dda78d86e969567f5bb231fe0e9"
 },
 "nbformat": 3,
 "nbformat_minor": 0,
 "worksheets": [
  {
   "cells": [
    {
     "cell_type": "markdown",
     "metadata": {},
     "source": [
      "The aim here is to create a random cloud of tones that\n",
      "- marginally as a flat spectrum\n",
      "- has some structure that induce streaming\n",
      " - either by frequency dependence\n",
      " - or by time dependence\n",
      " \n",
      "Constraints\n",
      "- we tile the frequency ax in consecutive semi octave bands\n",
      "- we tile the time axis in blocs of duration of a tone atom\n",
      "\n",
      "This means we have tiled the time log-frequency space\n",
      "\n",
      "I will now sample one tone per tile\n",
      "- start time uniform([0, duration/2])\n",
      "- frequency uniform"
     ]
    },
    {
     "cell_type": "code",
     "collapsed": false,
     "input": [
      "import numpy as np\n",
      "fb = 50  # the base frequency\n",
      "duration = 0.2\n",
      "\n",
      "nb = 5\n",
      "nt = 5\n",
      "\n",
      "indices = np.arange(nb)\n",
      "log_bands_bounds = np.log(fb)+ (indices/2.)*np.log(2)\n",
      "time_bounds = np.arange(nt)*duration\n",
      "\n",
      "n_bands = len(log_bands_bounds)\n",
      "n_times = len(time_bounds)\n",
      "\n",
      "s = np.random.rand(2,n_times,n_bands)\n",
      "times = (s[0] + np.tile(np.array(time_bounds), (n_bands,1)).T) \n",
      "freqs = np.exp(s[1] + np.tile(np.array(log_bands_bounds), (n_times,1)))\n",
      "\n",
      "\n",
      "\n"
     ],
     "language": "python",
     "metadata": {},
     "outputs": []
    },
    {
     "cell_type": "code",
     "collapsed": false,
     "input": [
      "import os, sys\n",
      "import copy\n",
      "import numpy as np\n",
      "parent_folder = os.path.split(os.path.abspath('.'))[0]\n",
      "sys.path.append(parent_folder)\n",
      "from TimeFreqAuditoryScene import *\n",
      "from IPython.display import Audio, display, clear_output\n",
      "%matplotlib inline\n"
     ],
     "language": "python",
     "metadata": {},
     "outputs": []
    },
    {
     "cell_type": "code",
     "collapsed": false,
     "input": [
      "# Parameterization\n",
      "# Global parameters\n",
      "fs = 44100\n",
      "mu_log=np.log(500)\n",
      "sigma_log=2.\n",
      "genv = GaussianSpectralEnvelope(mu_log=mu_log, sigma_log=sigma_log)"
     ],
     "language": "python",
     "metadata": {},
     "outputs": []
    },
    {
     "cell_type": "code",
     "collapsed": false,
     "input": [
      "scene = Scene()\n",
      "l = []\n",
      "for i in range(n_bands):\n",
      "    for j in range(n_times):\n",
      "        #print 'freq='+str(freqs[i,j])\n",
      "        #print 'delay='+str(times[i,j])\n",
      "        #print 'duration='+str(duration)\n",
      "        tmp_tone =Tone(freq=freqs[i,j], delay=times[i,j], duration=duration)\n",
      "        l.append(tmp_tone)\n",
      "                \n",
      "# draw spectrogram\n",
      "scene.List = l\n",
      "fig = scene.draw_spectrogram()\n",
      "plt.show()"
     ],
     "language": "python",
     "metadata": {},
     "outputs": []
    },
    {
     "cell_type": "code",
     "collapsed": false,
     "input": [
      "help(Tone)"
     ],
     "language": "python",
     "metadata": {},
     "outputs": []
    },
    {
     "cell_type": "code",
     "collapsed": false,
     "input": [],
     "language": "python",
     "metadata": {},
     "outputs": []
    }
   ],
   "metadata": {}
  }
 ]
}