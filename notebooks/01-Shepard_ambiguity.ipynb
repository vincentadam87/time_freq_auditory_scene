{
 "metadata": {
  "name": "",
  "signature": "sha256:9cf8cd731014719b3c0607549990dfcf8439a56dcb315307a44fc31a89b2c46b"
 },
 "nbformat": 3,
 "nbformat_minor": 0,
 "worksheets": [
  {
   "cells": [
    {
     "cell_type": "code",
     "collapsed": false,
     "input": [
      "import os, sys\n",
      "import numpy as np\n",
      "parent_folder = os.path.split(os.path.abspath('.'))[0]\n",
      "sys.path.append(parent_folder)\n",
      "from TimeFreqAuditoryScene import *\n",
      "from IPython.display import Audio, display, clear_output\n",
      "from IPython.html import widgets\n",
      "from IPython.html.widgets import interactive\n",
      "%matplotlib inline"
     ],
     "language": "python",
     "metadata": {},
     "outputs": []
    },
    {
     "cell_type": "markdown",
     "metadata": {},
     "source": [
      "# Reproducing standard shepard tones from (Shepard 64)"
     ]
    },
    {
     "cell_type": "markdown",
     "metadata": {},
     "source": [
      "### Shepard tone\n",
      "\n",
      "A shepard tone is a chord containing all tones in octave relation to a base tone of frequency $f_b$\n",
      "$$f_i = f_b 2^i, \\quad i\\in \\mathbb{Z}$$\n",
      "\n",
      "I will note a shepard tone as $SP(f_b)$ \n",
      "\n",
      "A log-gaussian spectral envelope is applied:\n",
      "$$a(f) \\propto \\exp\\left( -\\frac{1}{2\\sigma^2}(\\log f - \\mu )^2 \\right) $$\n",
      "\n",
      "For construction purposes, only tones whose frequency lie in the audible range are included \n",
      "$$f_i \\in [f_{min},f_{max}]$$\n",
      "\n",
      "### Properties\n",
      "\n",
      "- Scaling all tone frequencies is equivalent to scaling the base frequency: \n",
      "$$scale(FB(f_b),k) = FB(k\\,f_b)$$\n",
      "\n",
      "- Te set of Shepard tones is stable to scaling frequencies\n",
      "\n",
      "- Ay pair of shepard tones are equal up to a scaling of frequencies#\n",
      "\n",
      "- Scaling is log periodic with octave period: \n",
      "$$scale(SP(f_b ),2) = SP(2 f_b) = SP(f_b)$$\n",
      "\n",
      "### Tritone\n",
      "\n",
      "A tritone is a pair of two shepard tone in half-octave relationship\n",
      "$$SP(f_b), SP(f_b 2^{1/2})$$"
     ]
    },
    {
     "cell_type": "code",
     "collapsed": false,
     "input": [
      "# Parameterization\n",
      "# Global parameters\n",
      "fs = 44100 # sampling frequency\n",
      "# Shepard tones\n",
      "delay = 1./8. # delay between the two tones\n",
      "duration = 1./8. # duration of the two tones\n",
      "# declare gaussian envelope on log frequency\n",
      "mu_log=np.log(500)\n",
      "sigma_log=2.\n",
      "genv = GaussianSpectralEnvelope(mu_log=mu_log, sigma_log=sigma_log)"
     ],
     "language": "python",
     "metadata": {},
     "outputs": []
    },
    {
     "cell_type": "markdown",
     "metadata": {},
     "source": [
      "Here, two shepard tones are presented.\n",
      "\n",
      "They are parameterized by \n",
      "- the base frequency of the first tone\n",
      "- the semi-tone interval between the tones $\\in [0,12]$"
     ]
    },
    {
     "cell_type": "code",
     "collapsed": false,
     "input": [
      "def shepard(fb1=15., st=6.):\n",
      "    scene = Scene()\n",
      "\n",
      "    # Constructing the scene\n",
      "    run_time = 0\n",
      "    tone1 = ShepardTone(fb=fb1, env=genv, delay=run_time, duration=duration)\n",
      "    run_time += duration + delay\n",
      "    tone2 = ShepardTone(fb=fb1*2.**(st/12.), env=genv, delay=run_time, duration=duration)\n",
      "    stList = [tone1, tone2]\n",
      "    scene.List = stList\n",
      "\n",
      "    # draw spectrogram\n",
      "    fig = scene.draw_spectrogram()\n",
      "    plt.show()\n",
      "    \n",
      "    # generate sound\n",
      "    x = scene.generate(fs=fs)\n",
      "    display(Audio(x, rate=fs, autoplay=True))\n",
      "    \n",
      "w = interactive(shepard, fb1=(10.,20.), st=(0.,12.))\n",
      "display(w)"
     ],
     "language": "python",
     "metadata": {},
     "outputs": []
    },
    {
     "cell_type": "markdown",
     "metadata": {},
     "source": [
      "### Observations\n",
      "Independent of the base frequency, shift below 6 are percieved as upwards, shift above 6 as downwards"
     ]
    },
    {
     "cell_type": "code",
     "collapsed": false,
     "input": [],
     "language": "python",
     "metadata": {},
     "outputs": []
    }
   ],
   "metadata": {}
  }
 ]
}