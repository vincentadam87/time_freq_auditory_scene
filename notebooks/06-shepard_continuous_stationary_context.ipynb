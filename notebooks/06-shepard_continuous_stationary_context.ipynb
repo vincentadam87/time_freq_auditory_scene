{
 "metadata": {
  "name": "",
  "signature": "sha256:a7a0ec272fb8c8b89770989ca0724c801e48f96eae119c3832f044f167bec233"
 },
 "nbformat": 3,
 "nbformat_minor": 0,
 "worksheets": [
  {
   "cells": [
    {
     "cell_type": "code",
     "collapsed": false,
     "input": [
      "import os, sys\n",
      "import numpy as np\n",
      "parent_folder = os.path.split(os.path.abspath('.'))[0]\n",
      "sys.path.append(parent_folder)\n",
      "from TimeFreqAuditoryScene import *\n",
      "from IPython.display import Audio, display, clear_output\n",
      "from IPython.html import widgets\n",
      "from IPython.html.widgets import interactive\n",
      "%matplotlib inline"
     ],
     "language": "python",
     "metadata": {},
     "outputs": []
    },
    {
     "cell_type": "markdown",
     "metadata": {},
     "source": [
      "## Shepard tones continuous context\n",
      "\n",
      "We design a continuous context by defining a time varying shepard tone\n",
      "\n",
      "More specifically, the base frequency is modulated through time\n",
      "\n",
      "$\\log f_b(t) = log(f_b) + a_m\\,\\cos(2\\pi f_m t) $\n",
      "\n",
      "$f_b(t) = f_b \\exp(a_m\\,\\cos(2\\pi f_m t)) $\n",
      "\n",
      "To control the range of fluctuation in terms of semitones, one can reparameterize the modulation as follows\n",
      "\n",
      "$\\log f_b(t) = log(f_b) + st_m \\log(2^{1/12}) \\,\\cos(2\\pi f_m t) $\n",
      "\n",
      "then $|\\log(f_b(t))-\\log(f_b)|<\\log(2^{st_m/12})$\n",
      "\n",
      "\n",
      "Phase is therefore obtained as\n",
      "\n",
      "$\\phi(t) = \\int f_b(t)dt$\n",
      "\n",
      "## Squashed context\n",
      "\n",
      "To further manipulate the context, one manipulation is to rectify the cosine by a non-linearity.\n",
      "\n",
      "One simple rectifying function is \n",
      "$$r(x) =   \\frac{1-e^{-a x}}{1+e^{-a x}}$$"
     ]
    },
    {
     "cell_type": "code",
     "collapsed": false,
     "input": [
      "x = np.linspace(-1,1,100)\n",
      "z = np.linspace(-10,10,100)\n",
      "\n",
      "def rect(x,a):\n",
      "    return (1-np.exp(-a*x))/(1+np.exp(-a*x))\n",
      "\n",
      "def rect_(a=1):\n",
      "    plt.subplot(1,2,1)\n",
      "    plt.plot(x,rect(x,a))\n",
      "    plt.subplot(1,2,2)\n",
      "    plt.plot(z,rect(np.cos(z),a))\n",
      "w = interactive(rect_, a=(0.1,10))\n",
      "display(w)"
     ],
     "language": "python",
     "metadata": {},
     "outputs": []
    },
    {
     "cell_type": "code",
     "collapsed": false,
     "input": [
      "# Parameterization\n",
      "# Global parameters\n",
      "fs = 44100\n",
      "# Shepard tones\n",
      "delay = 1./8.\n",
      "duration = 1./8.\n",
      "fb1 = 1.\n",
      "# declare gaussian envelope on log frequency\n",
      "mu_log=np.log(200)\n",
      "sigma_log=2.\n",
      "genv = GaussianSpectralEnvelope(mu_log=mu_log, sigma_log=sigma_log)\n",
      "\n"
     ],
     "language": "python",
     "metadata": {},
     "outputs": []
    },
    {
     "cell_type": "code",
     "collapsed": false,
     "input": [
      "ctx_duration =duration*5\n",
      "\n",
      "def up_or_down(st_m=1, st_shift=1, f_m=10,alpha=1):\n",
      "\n",
      "    scene = Scene()\n",
      "    context = []\n",
      "    run_time=0\n",
      "    \n",
      "    def squash(x,alpha):\n",
      "        return (1-np.exp(-alpha*x))/(1+np.exp(-alpha*x))\n",
      "    \n",
      "    def inst_freq(i, fc):\n",
      "        return lambda t: (2.**i)*fc*np.exp(st_m/12.*np.log(2)*squash(np.cos(2*np.pi*f_m*t),alpha))\n",
      "    # Constructing the context\n",
      "    for i in range(16):\n",
      "        context.append(InstantaneousFrequency(i_freq=inst_freq(i,fb1*2**(st_shift/12.)),\n",
      "                                        duration=ctx_duration, env=genv))\n",
      "\n",
      "\n",
      "    # Constructing the test pair    \n",
      "    run_time+=delay+ctx_duration\n",
      "\n",
      "    tone1 = ShepardTone(fb=fb1, env=genv, delay=run_time, duration=duration)\n",
      "    run_time += duration + delay\n",
      "    tone2 = ShepardTone(fb=fb1*np.sqrt(2.), env=genv, delay=run_time, duration=duration)\n",
      "\n",
      "    scene.List = context +[tone1, tone2]\n",
      "\n",
      "\n",
      "    # draw spectrogram\n",
      "    fig = scene.draw_spectrogram()\n",
      "    plt.show()\n",
      "    # generate sound\n",
      "    x = scene.generate(fs=fs)\n",
      "    display(Audio(x, rate=fs, autoplay=True))\n",
      "\n",
      "    \n",
      "w = interactive(up_or_down, st_m=(0,12), st_shift=(0,12), f_m=(1,50),alpha=(0.1,10))\n",
      "display(w)"
     ],
     "language": "python",
     "metadata": {},
     "outputs": []
    },
    {
     "cell_type": "code",
     "collapsed": false,
     "input": [],
     "language": "python",
     "metadata": {},
     "outputs": []
    }
   ],
   "metadata": {}
  }
 ]
}