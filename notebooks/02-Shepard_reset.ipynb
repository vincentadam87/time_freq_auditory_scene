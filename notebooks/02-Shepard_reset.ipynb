{
 "metadata": {
  "name": "",
  "signature": "sha256:733959a591ff0d17d42da34c6bb906a66d919e8a008b81c630b0cc17142acb9b"
 },
 "nbformat": 3,
 "nbformat_minor": 0,
 "worksheets": [
  {
   "cells": [
    {
     "cell_type": "code",
     "collapsed": false,
     "input": [
      "import os, sys\n",
      "import numpy as np\n",
      "from TimeFreqAuditoryScene import *\n",
      "from IPython.display import Audio, display, clear_output\n",
      "from IPython.html import widgets\n",
      "from IPython.html.widgets import interactive\n",
      "%matplotlib inline"
     ],
     "language": "python",
     "metadata": {},
     "outputs": []
    },
    {
     "cell_type": "markdown",
     "metadata": {},
     "source": [
      "## Shepard tones ascending/descending sequences testing the reset effect\n",
      "\n",
      "I here generate a sequence of shepard tones with a constant interval in semitones\n",
      "\n",
      "One can vary\n",
      "- the interval between consecutive tones\n",
      "- the duration of tones\n",
      "- the delay between tones\n",
      "\n",
      "\n",
      "Because of the periodic nature of shepard tones with base frequency, sequences are periodic\n",
      "\n",
      "Perceptually, a **'reset'** is experienced when the first tone of the sequence is reheard\n",
      "\n",
      "This is interesting because it is not due to an intrinsic property of the stimulus.\n"
     ]
    },
    {
     "cell_type": "code",
     "collapsed": false,
     "input": [
      "# Parameterization\n",
      "\n",
      "# Global parameters\n",
      "fs = 44100\n",
      "# Shepard tones\n",
      "short_delay = 0.1\n",
      "delay =0.1\n",
      "duration = 1./8.\n",
      "# declare gaussian envelope on log frequency\n",
      "mu_log=np.log(200)\n",
      "sigma_log=2.\n",
      "genv = GaussianSpectralEnvelope(mu_log=mu_log, sigma_log=sigma_log)\n",
      "\n",
      "fb1 = 12.\n",
      "# sequence\n",
      "n_sequence = 26\n",
      "st_step = 3"
     ],
     "language": "python",
     "metadata": {},
     "outputs": []
    },
    {
     "cell_type": "code",
     "collapsed": false,
     "input": [
      "def reset(st_step=1, delay=0.1, duration=1./8.):\n",
      "    scene = Scene()\n",
      "    run_time = 0\n",
      "    # Constructing the sequence\n",
      "    sequence = []\n",
      "\n",
      "    for i in range(n_sequence):\n",
      "        tmp_st = ShepardTone(fb=fb1*2.**(i*st_step/12.), env=genv, delay=run_time, duration=duration)\n",
      "        run_time += duration + delay\n",
      "        sequence.append(tmp_st)\n",
      "        # uncomment the 3 next line for repetition\n",
      "        tmp_st = ShepardTone(fb=fb1*2.**(i*st_step/12.), env=genv, delay=run_time, duration=duration)\n",
      "        run_time += duration + short_delay\n",
      "        sequence.append(tmp_st)\n",
      "\n",
      "    scene.add(sequence)\n",
      "    # draw spectrogram\n",
      "    sd = SceneDrawer()\n",
      "    sd.draw(scene)\n",
      "    plt.show()\n",
      "\n",
      "    # generate sound\n",
      "    x = scene.generate(fs=fs)\n",
      "    display(Audio(x, rate=fs, autoplay=True))\n",
      "\n",
      "w = interactive(reset, st_step=(-6,6), delay=(0.,2), duration =(0.1,1.))\n",
      "display(w)"
     ],
     "language": "python",
     "metadata": {},
     "outputs": []
    }
   ],
   "metadata": {}
  }
 ]
}