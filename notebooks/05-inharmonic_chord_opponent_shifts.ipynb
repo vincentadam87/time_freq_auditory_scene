{
 "metadata": {
  "name": "",
  "signature": "sha256:2630c49a45736ab29b1f11d73033cd00fc63dae735bde07fb3f164ce57ad21fc"
 },
 "nbformat": 3,
 "nbformat_minor": 0,
 "worksheets": [
  {
   "cells": [
    {
     "cell_type": "code",
     "collapsed": false,
     "input": [
      "import os, sys\n",
      "import copy\n",
      "\n",
      "parent_folder = os.path.split(os.path.abspath('.'))[0]\n",
      "sys.path.append(parent_folder)\n",
      "from TimeFreqAuditoryScene import *\n",
      "from IPython.display import Audio, display, clear_output\n",
      "from IPython.html import widgets\n",
      "from IPython.html.widgets import interactive\n",
      "%matplotlib inline"
     ],
     "language": "python",
     "metadata": {},
     "outputs": []
    },
    {
     "cell_type": "markdown",
     "metadata": {},
     "source": [
      "## Generating opponent shifts in inharmonic chord\n",
      "\n",
      "Two Chords T1,T2 are generated\n",
      "- T1 is inharmonic with random intervals\n",
      "- T2 is build from T1 with various ratios of up or down shifts for individual tones in T1\n",
      "\n",
      "T1 and T2 share a gaussian spectral envelope"
     ]
    },
    {
     "cell_type": "code",
     "collapsed": false,
     "input": [
      "# Parameterization\n",
      "# Global parameters\n",
      "fs = 44100\n",
      "delay = 1./8.\n",
      "duration = 1./8.\n",
      "mu_log=np.log(500)\n",
      "sigma_log=2.\n",
      "genv = GaussianSpectralEnvelope(mu_log=mu_log, sigma_log=sigma_log)\n"
     ],
     "language": "python",
     "metadata": {},
     "outputs": []
    },
    {
     "cell_type": "code",
     "collapsed": false,
     "input": [
      "duration=0.1\n",
      "delay=0.05\n",
      "fb = 10.\n",
      "\n",
      "n_tones = 18\n",
      "intervals_st = np.random.randint(6,12,n_tones)\n",
      "\n",
      "def shift_inharmonic(th=0.1):\n",
      "\n",
      "    # random shift up and down,\n",
      "    shifts_st = (np.random.rand(n_tones)>th)*2-1\n",
      "\n",
      "    print 'shifts:',shifts_st\n",
      "    print intervals_st\n",
      "    scene = Scene()\n",
      "    tone1 = Chord(fb=fb,\n",
      "                  intervals=2.**(intervals_st/12.),\n",
      "                  duration=duration,\n",
      "                  env=genv)\n",
      "\n",
      "    tone2 = Chord(chord=tone1)\n",
      "    tone2.delay += duration + delay\n",
      "    tone2.shift_tones(2.**(shifts_st/12.))\n",
      "\n",
      "    scene.List=[tone1,tone2]\n",
      "\n",
      "\n",
      "    # draw spectrogram\n",
      "    fig = scene.draw_spectrogram()\n",
      "    plt.show()\n",
      "    # generate sound\n",
      "    x = scene.generate(fs=fs)\n",
      "    display(Audio(x, rate=fs, autoplay=True))\n",
      "\n",
      "w = interactive(shift_inharmonic, th=(0.,1.))\n",
      "display(w)\n"
     ],
     "language": "python",
     "metadata": {},
     "outputs": []
    },
    {
     "cell_type": "code",
     "collapsed": false,
     "input": [],
     "language": "python",
     "metadata": {},
     "outputs": []
    },
    {
     "cell_type": "code",
     "collapsed": false,
     "input": [],
     "language": "python",
     "metadata": {},
     "outputs": []
    }
   ],
   "metadata": {}
  }
 ]
}