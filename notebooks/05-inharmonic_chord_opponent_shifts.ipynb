{
 "metadata": {
  "name": "",
  "signature": "sha256:dcdb39b9be49c5e09156893307d9b3f875e068967bf258d78f37ae32ead096eb"
 },
 "nbformat": 3,
 "nbformat_minor": 0,
 "worksheets": [
  {
   "cells": [
    {
     "cell_type": "code",
     "collapsed": false,
     "input": [
      "import os, sys\n",
      "from TimeFreqAuditoryScene import *\n",
      "from IPython.display import Audio, display, clear_output\n",
      "from IPython.html import widgets\n",
      "from IPython.html.widgets import interactive\n",
      "%matplotlib inline"
     ],
     "language": "python",
     "metadata": {},
     "outputs": []
    },
    {
     "cell_type": "markdown",
     "metadata": {},
     "source": [
      "## Generating opponent shifts in inharmonic chord\n",
      "\n",
      "Two Chords T1,T2 are generated\n",
      "- T1 is inharmonic with random intervals\n",
      "- T2 is build from T1 with various ratios of up or down shifts for individual tones in T1\n",
      "\n",
      "T1 and T2 share a gaussian spectral envelope"
     ]
    },
    {
     "cell_type": "code",
     "collapsed": false,
     "input": [
      "# Parameterization\n",
      "# Global parameters\n",
      "fs = 44100\n",
      "delay = 1./8.\n",
      "duration = 1./8.\n",
      "mu_log=np.log(500)\n",
      "sigma_log=2.\n",
      "genv = GaussianSpectralEnvelope(mu_log=mu_log, sigma_log=sigma_log)\n"
     ],
     "language": "python",
     "metadata": {},
     "outputs": []
    },
    {
     "cell_type": "code",
     "collapsed": false,
     "input": [
      "duration=0.1\n",
      "delay=0.0\n",
      "fb = 10.\n",
      "\n",
      "n_tones = 18\n",
      "intervals_st = np.random.randint(6,7,n_tones)\n",
      "\n",
      "def shift_inharmonic(th=0.1):\n",
      "\n",
      "    # random shift up and down,\n",
      "    shifts_st = (np.random.rand(n_tones)>th)*2-1\n",
      "\n",
      "    scene = Scene()\n",
      "    tone1 = Chord(fb=fb,\n",
      "                  intervals=2.**(intervals_st/12.),\n",
      "                  duration=duration,\n",
      "                  env=genv)\n",
      "    tone2 = Chord(fb=fb,\n",
      "                  intervals=2.**((intervals_st)/12.),\n",
      "                  duration=duration,\n",
      "                  env=genv,\n",
      "                  delay=duration+delay)\n",
      "    tone2.shift_tones(2.**(shifts_st/12.))\n",
      "    scene.add([tone1,tone2])\n",
      "\n",
      "    # draw spectrogram\n",
      "    sd = SceneDrawer()\n",
      "    sd.draw(scene)\n",
      "    plt.show()\n",
      "    # generate sound\n",
      "    x = scene.generate(fs=fs)\n",
      "    display(Audio(x, rate=fs, autoplay=True))\n",
      "\n",
      "w = interactive(shift_inharmonic, th=(0.,1.))\n",
      "display(w)\n"
     ],
     "language": "python",
     "metadata": {},
     "outputs": []
    }
   ],
   "metadata": {}
  }
 ]
}