{
 "metadata": {
  "name": "",
  "signature": "sha256:c290e7aaa359d0226b1f4de555e802853a693fdeb0c42cc01d585fa695b3c799"
 },
 "nbformat": 3,
 "nbformat_minor": 0,
 "worksheets": [
  {
   "cells": [
    {
     "cell_type": "code",
     "collapsed": false,
     "input": [
      "import os, sys\n",
      "import numpy as np\n",
      "import random\n",
      "\n",
      "from TimeFreqAuditoryScene import *\n",
      "from Chambers import *\n",
      "\n",
      "from IPython.display import Audio, display, clear_output\n",
      "from IPython.html import widgets\n",
      "from IPython.html.widgets import interactive\n",
      "%matplotlib inline"
     ],
     "language": "python",
     "metadata": {},
     "outputs": []
    },
    {
     "cell_type": "code",
     "collapsed": false,
     "input": [
      "# Generating Sequences of Shepard Tones with missing pure tones\n",
      "# - random dropout: X per shepard tone\n",
      "# - structured dropout (every other two)\n",
      "fs = 44100.\n",
      "tone_duration = 0.3\n",
      "n_tones = 10\n",
      "inter_tone_interval = 0.1\n",
      "genv = GaussianSpectralEnvelope(mu=960.,sigma_oct=2.)\n",
      "bias = random.choice(['up','down'])\n"
     ],
     "language": "python",
     "metadata": {},
     "outputs": []
    },
    {
     "cell_type": "code",
     "collapsed": false,
     "input": [
      "# Starting from Complete sequence of tones\n",
      "\n",
      "\n",
      "ctx1 = Context(n_tones=n_tones, \n",
      "               inter_tone_interval=inter_tone_interval, \n",
      "               env=genv, \n",
      "               bias=bias, \n",
      "               fb_T1=1.,\n",
      "               type=\"chords\")\n",
      "ctx2 = Context(n_tones=n_tones, \n",
      "               inter_tone_interval=inter_tone_interval,\n",
      "               env=genv, \n",
      "               bias=bias, \n",
      "               fb_T1=1.,\n",
      "               type=\"streams\")\n",
      "       \n",
      "items = [ctx1,ctx2]\n",
      "    \n",
      "scene1 = Scene()\n",
      "scene1.add(ctx1)\n",
      "\n",
      "scene2 = Scene()\n",
      "scene2.add(ctx2)\n"
     ],
     "language": "python",
     "metadata": {},
     "outputs": []
    },
    {
     "cell_type": "code",
     "collapsed": false,
     "input": [
      "# Random dropout: N per shepard tone\n",
      "# make drop-out probability proportional to amplitude\n",
      "\n",
      "ctx3 = RandomDropOutContext(n_tones=n_tones,\n",
      "               n_drop=2,\n",
      "               inter_tone_interval=inter_tone_interval,\n",
      "               env=genv, \n",
      "               bias=bias, \n",
      "               fb_T1=1.)\n",
      "       \n",
      "    \n",
      "scene3 = Scene()\n",
      "scene3.add(ctx3)\n",
      "x = scene3.generate(fs)\n",
      "display(Audio(x, rate=fs, autoplay=True))\n",
      "\n",
      "sd = SceneDrawer()\n",
      "sd.draw(scene3)\n",
      "plt.show()\n",
      "\n",
      "print ctx3.drop"
     ],
     "language": "python",
     "metadata": {},
     "outputs": []
    },
    {
     "cell_type": "code",
     "collapsed": false,
     "input": [
      "# Structured dropout: N per shepard tone\n",
      "\n",
      "ctx4 = StructuredDropOutContext(n_tones=n_tones,\n",
      "               n_drop=2,\n",
      "               inter_tone_interval=inter_tone_interval,\n",
      "               env=genv, \n",
      "               bias=bias, \n",
      "               fb_T1=1.)\n",
      "       \n",
      "scene4 = Scene()\n",
      "scene4.add(ctx4)\n",
      "\n",
      "sd = SceneDrawer()\n",
      "sd.draw(scene4)\n",
      "plt.show()\n",
      "\n",
      "x = scene4.generate(fs)\n",
      "display(Audio(x, rate=fs, autoplay=True))\n",
      "plt.show()"
     ],
     "language": "python",
     "metadata": {},
     "outputs": []
    }
   ],
   "metadata": {}
  }
 ]
}