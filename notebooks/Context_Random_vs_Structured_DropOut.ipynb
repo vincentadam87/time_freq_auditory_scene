{
 "metadata": {
  "name": "",
  "signature": "sha256:8e4b7ad0e671870359ee81dcfba47566b39e2fe1d96507d4f91aa10da77a8449"
 },
 "nbformat": 3,
 "nbformat_minor": 0,
 "worksheets": [
  {
   "cells": [
    {
     "cell_type": "code",
     "collapsed": false,
     "input": [
      "import os, sys\n",
      "import numpy as np\n",
      "import random\n",
      "\n",
      "parent_folder = os.path.split(os.path.abspath('.'))[0]\n",
      "sys.path.append(parent_folder)\n",
      "from TimeFreqAuditoryScene import *\n",
      "from Chambers import *\n",
      "\n",
      "from IPython.display import Audio, display, clear_output\n",
      "from IPython.html import widgets\n",
      "from IPython.html.widgets import interactive\n",
      "%matplotlib inline"
     ],
     "language": "python",
     "metadata": {},
     "outputs": []
    },
    {
     "cell_type": "code",
     "collapsed": false,
     "input": [
      "# Generating Sequences of Shepard Tones with missing pure tones\n",
      "# - random dropout: X per shepard tone\n",
      "# - structured dropout (every other two)\n",
      "fs = 44100.\n",
      "tone_duration = 0.3\n",
      "n_tones = 10\n",
      "inter_tone_interval = 0.1\n",
      "genv = GaussianSpectralEnvelope(mu=960.,sigma_oct=2.)\n",
      "bias = random.choice(['up','down'])\n"
     ],
     "language": "python",
     "metadata": {},
     "outputs": []
    },
    {
     "cell_type": "code",
     "collapsed": false,
     "input": [
      "# Starting from Complete sequence of tones\n",
      "\n",
      "\n",
      "\n",
      "\n",
      "ctx1 = Context(n_tones=n_tones, \n",
      "               inter_tone_interval=inter_tone_interval, \n",
      "               env=genv, \n",
      "               bias=bias, \n",
      "               fb_T1=1.,\n",
      "               type=\"chords\")\n",
      "ctx2 = Context(n_tones=n_tones, \n",
      "               inter_tone_interval=inter_tone_interval,\n",
      "               env=genv, \n",
      "               bias=bias, \n",
      "               fb_T1=1.,\n",
      "               type=\"streams\")\n",
      "       \n",
      "items = [ctx1,ctx2]\n",
      "    \n",
      "scene1 = Scene()\n",
      "scene1.List= [ctx1]\n",
      "#scene1.draw_spectrogram()\n",
      "#plt.show()\n",
      "\n",
      "scene2 = Scene()\n",
      "scene2.List= [ctx2]\n",
      "#scene2.draw_spectrogram()\n",
      "#plt.show()"
     ],
     "language": "python",
     "metadata": {},
     "outputs": []
    },
    {
     "cell_type": "code",
     "collapsed": false,
     "input": [
      "# Random dropout: N per shepard tone\n",
      "# make drop-out probability proportional to amplitude\n",
      "\n",
      "ctx3 = RandomDropOutContext(n_tones=n_tones,\n",
      "               n_drop=2,\n",
      "               inter_tone_interval=inter_tone_interval,\n",
      "               env=genv, \n",
      "               bias=bias, \n",
      "               fb_T1=1.)\n",
      "       \n",
      "    \n",
      "scene3 = Scene()\n",
      "scene3.List= [ctx3]\n",
      "scene3.draw_spectrogram()\n",
      "plt.show()"
     ],
     "language": "python",
     "metadata": {},
     "outputs": []
    },
    {
     "cell_type": "code",
     "collapsed": false,
     "input": [
      "# Structured dropout: N per shepard tone\n",
      "\n",
      "ctx4 = StructuredDropOutContext(n_tones=n_tones,\n",
      "               n_drop=3,\n",
      "               inter_tone_interval=inter_tone_interval,\n",
      "               env=genv, \n",
      "               bias=bias, \n",
      "               fb_T1=1.)\n",
      "       \n",
      "scene4 = Scene()\n",
      "scene4.List= [ctx4]\n",
      "scene4.draw_spectrogram()\n",
      "plt.show()"
     ],
     "language": "python",
     "metadata": {},
     "outputs": []
    }
   ],
   "metadata": {}
  }
 ]
}