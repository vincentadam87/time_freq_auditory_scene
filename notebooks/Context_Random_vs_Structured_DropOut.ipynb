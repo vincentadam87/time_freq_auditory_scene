{
 "metadata": {
  "name": "",
  "signature": "sha256:8ceca580238a0948fc62982430743cf5002a5879f29653beb7cc411ff2cbaf2d"
 },
 "nbformat": 3,
 "nbformat_minor": 0,
 "worksheets": [
  {
   "cells": [
    {
     "cell_type": "code",
     "collapsed": false,
     "input": [
      "import os, sys\n",
      "import numpy as np\n",
      "import random\n",
      "\n",
      "parent_folder = os.path.split(os.path.abspath('.'))[0]\n",
      "sys.path.append(parent_folder)\n",
      "from TimeFreqAuditoryScene import *\n",
      "from Chambers import *\n",
      "\n",
      "from IPython.display import Audio, display, clear_output\n",
      "from IPython.html import widgets\n",
      "from IPython.html.widgets import interactive\n",
      "%matplotlib inline"
     ],
     "language": "python",
     "metadata": {},
     "outputs": []
    },
    {
     "cell_type": "code",
     "collapsed": false,
     "input": [
      "# Generating Sequences of Shepard Tones with missing pure tones\n",
      "# - random dropout: X per shepard tone\n",
      "# - structured dropout (every other two)\n"
     ],
     "language": "python",
     "metadata": {},
     "outputs": []
    },
    {
     "cell_type": "code",
     "collapsed": false,
     "input": [
      "# Starting from Complete sequence of tones\n",
      "\n",
      "fs = 44100.\n",
      "tone_duration = 0.3\n",
      "n_tones = 5\n",
      "inter_tone_interval = 0.1\n",
      "genv = GaussianSpectralEnvelope(mu=960.,sigma_oct=1.)\n",
      "bias = random.choice(['up','down'])\n",
      "\n",
      "ctx1 = Context(n_tones=n_tones, \n",
      "               inter_tone_interval=inter_tone_interval, \n",
      "               env=genv, \n",
      "               bias=bias, \n",
      "               fb_T1=1.,\n",
      "               type=\"chords\")\n",
      "ctx2 = Context(n_tones=n_tones, \n",
      "               inter_tone_interval=inter_tone_interval,\n",
      "               env=genv, \n",
      "               bias=bias, \n",
      "               fb_T1=1.,\n",
      "               type=\"streams\")\n",
      "       \n",
      "items = [ctx1,ctx2]\n",
      "    \n",
      "scene1 = Scene()\n",
      "scene1.List= [ctx1]\n",
      "#scene1.draw_spectrogram()\n",
      "#plt.show()\n",
      "\n",
      "scene2 = Scene()\n",
      "scene2.List= [ctx2]\n",
      "#scene2.draw_spectrogram()\n",
      "#plt.show()"
     ],
     "language": "python",
     "metadata": {},
     "outputs": []
    },
    {
     "cell_type": "code",
     "collapsed": false,
     "input": [
      "# Random dropout: N per shepard tone\n",
      "# make drop-out probability proportional to amplitude\n",
      "\n",
      "def sample_discrete(probabilities, size):\n",
      "    bins = np.add.accumulate(probabilities)\n",
      "    return np.digitize(random_sample(size), bins)\n",
      "\n",
      "N = 2\n",
      "n_tones= len(ctx1.List)\n",
      "\n",
      "# loop over shepard tones\n",
      "for i in range(n_tones):\n",
      "    st = ctx1.List[i]\n",
      "    n_pure_tones = len(st.List)\n",
      "    amps = [t.amp for t in st.List]\n",
      "    amps /= sum(amps)\n",
      "    i_drop = sample_discrete(amps,1)\n",
      "    print i_drop, ' out of ', n_pure_tones\n",
      "    st.List[i_drop].active = False"
     ],
     "language": "python",
     "metadata": {},
     "outputs": []
    },
    {
     "cell_type": "code",
     "collapsed": false,
     "input": [
      "scene1 = Scene()\n",
      "scene1.List= [ctx1]\n",
      "scene1.draw_spectrogram()\n",
      "plt.show()"
     ],
     "language": "python",
     "metadata": {},
     "outputs": []
    }
   ],
   "metadata": {}
  }
 ]
}