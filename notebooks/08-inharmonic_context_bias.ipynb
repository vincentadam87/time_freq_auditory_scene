{
 "metadata": {
  "name": "",
  "signature": "sha256:5366a9d5603b675ec1514f0fac21f87a598400a576b1846c86086f41c7ed9948"
 },
 "nbformat": 3,
 "nbformat_minor": 0,
 "worksheets": [
  {
   "cells": [
    {
     "cell_type": "code",
     "collapsed": true,
     "input": [
      "import os, sys\n",
      "import copy\n",
      "import numpy as np\n",
      "parent_folder = os.path.split(os.path.abspath('.'))[0]\n",
      "sys.path.append(parent_folder)\n",
      "from TimeFreqAuditoryScene import *\n",
      "from IPython.display import Audio, display, clear_output\n",
      "%matplotlib inline"
     ],
     "language": "python",
     "metadata": {},
     "outputs": []
    },
    {
     "cell_type": "code",
     "collapsed": true,
     "input": [
      "# Parameterization\n",
      "# Global parameters\n",
      "fs = 44100\n",
      "delay = 1./8.\n",
      "duration = 1./8.\n",
      "mu_log=np.log(500)\n",
      "sigma_log=2.\n",
      "genv = GaussianSpectralEnvelope(mu_log=mu_log, sigma_log=sigma_log)\n"
     ],
     "language": "python",
     "metadata": {},
     "outputs": []
    },
    {
     "cell_type": "code",
     "collapsed": true,
     "input": [
      "duration=0.2\n",
      "delay=0.1\n",
      "fb = np.random.rand()*5\n",
      "\n",
      "n_tones = 20\n",
      "intervals_st = np.random.randint(6,12,n_tones)\n",
      "intervals_st2 = 0.5*(intervals_st[0:-1]+intervals_st[1:])\n",
      "\n",
      "print intervals_st[0]/2./12.\n",
      "print intervals_st\n",
      "scene = Scene()\n",
      "\n",
      "\n",
      "\n",
      "run_time = 0.\n",
      "# Constructing the context\n",
      "\n",
      "n_context = 5\n",
      "context = []\n",
      "\n",
      "freqs = fb*2**(np.cumsum(intervals_st/12.))\n",
      "\n",
      "for i in range(n_context):\n",
      "    shift = +np.random.randint(0,np.max(intervals_st)/2)\n",
      "    tmp_chord = Chord(fb=fb,\n",
      "              freqs=freqs*2**(shift/12.),\n",
      "              duration=duration,\n",
      "              env=genv,\n",
      "              delay=run_time)\n",
      "    run_time += duration + delay\n",
      "    context.append(tmp_chord)\n",
      "\n",
      "run_time+=delay\n",
      "\n",
      "\n",
      "\n",
      "tone1 = Chord(fb=fb,\n",
      "              intervals=2.**(intervals_st/12.),\n",
      "              duration=duration,\n",
      "              env=genv,\n",
      "              delay=run_time)\n",
      "run_time+=duration + delay\n",
      "tone2 = Chord(fb=fb*2.**(intervals_st[0]/2./12.),\n",
      "              intervals=2.**(intervals_st2/12.),\n",
      "              duration=duration,\n",
      "              env=genv,\n",
      "              delay=run_time)\n",
      "\n",
      "\n",
      "\n",
      "\n",
      "scene.List=context+[tone1,tone2]\n",
      "\n",
      "\n",
      "# draw spectrogram\n",
      "fig = scene.draw_spectrogram()\n",
      "plt.show()\n",
      "# generate sound\n",
      "x = scene.generate(fs=fs)\n",
      "display(Audio(x, rate=fs, autoplay=True))"
     ],
     "language": "python",
     "metadata": {},
     "outputs": []
    },
    {
     "cell_type": "code",
     "collapsed": true,
     "input": [],
     "language": "python",
     "metadata": {},
     "outputs": []
    }
   ],
   "metadata": {}
  }
 ]
}