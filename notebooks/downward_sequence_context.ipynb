{
 "metadata": {
  "name": "",
  "signature": "sha256:de93e872d27f2867540f77aaaec95b81c9ca0bc6b81582454fc585ca7995f1b8"
 },
 "nbformat": 3,
 "nbformat_minor": 0,
 "worksheets": [
  {
   "cells": [
    {
     "cell_type": "code",
     "collapsed": false,
     "input": [
      "import os, sys\n",
      "import numpy as np\n",
      "\n",
      "from TimeFreqAuditoryScene import *\n",
      "from IPython.display import Audio, display, clear_output\n",
      "from IPython.html import widgets\n",
      "from IPython.html.widgets import interactive\n",
      "%matplotlib inline"
     ],
     "language": "python",
     "metadata": {},
     "outputs": []
    },
    {
     "cell_type": "code",
     "collapsed": false,
     "input": [
      "# Parameterization\n",
      "# Global parameters\n",
      "fs = 44100\n",
      "# Shepard tones\n",
      "delay = 1./8.\n",
      "duration = 1./8.\n",
      "mu_log=np.log(200)\n",
      "sigma_log=2.\n",
      "fb1 = 12.\n",
      "fb2 = fb1*np.sqrt(2.)\n",
      "# Context\n"
     ],
     "language": "python",
     "metadata": {},
     "outputs": []
    },
    {
     "cell_type": "code",
     "collapsed": false,
     "input": [
      "def up_or_down(type):\n",
      "    abs_step = 0.5\n",
      "    n_context = int(1*12/abs_step)\n",
      "\n",
      "    if type == 0:\n",
      "        step = -abs_step # semitones\n",
      "    elif type == 1:\n",
      "        step = abs_step # semitones\n",
      "\n",
      "    scene = Scene()\n",
      "    # declare gaussian envelope on log frequency\n",
      "    genv = GaussianSpectralEnvelope(mu_log=mu_log, sigma_log=sigma_log)\n",
      "\n",
      "\n",
      "    run_time = 0\n",
      "\n",
      "    # Constructing the context\n",
      "    context = Node()\n",
      "\n",
      "    st = 0\n",
      "    for i in range(n_context):\n",
      "        st+=1\n",
      "        tmp_st = ShepardTone(fb=fb1*2.**(step*st/12.), env=genv, delay=run_time, duration=duration)\n",
      "        run_time += duration + delay\n",
      "        context.add(tmp_st)\n",
      "\n",
      "    run_time+=delay\n",
      "\n",
      "    tone1 = ShepardTone(fb=fb1, env=genv, delay=run_time, duration=duration)\n",
      "    run_time += duration + delay\n",
      "    tone2 = ShepardTone(fb=fb1*np.sqrt(2.), env=genv, delay=run_time, duration=duration)\n",
      "    scene.add([context ,tone1, tone2])\n",
      "\n",
      "\n",
      "    # draw spectrogram\n",
      "    sd = SceneDrawer()\n",
      "    sd.draw(scene)\n",
      "    plt.show()\n",
      "    # generate sound\n",
      "    x = scene.generate(fs=fs)\n",
      "    display(Audio(x, rate=fs, autoplay=True))\n",
      "    \n",
      "w = interactive(up_or_down, type=(0,1))\n",
      "display(w)"
     ],
     "language": "python",
     "metadata": {},
     "outputs": []
    }
   ],
   "metadata": {}
  }
 ]
}