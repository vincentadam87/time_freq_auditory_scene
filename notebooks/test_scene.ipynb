{
 "metadata": {
  "name": "",
  "signature": "sha256:fd358f1def49d50772cf8efb5392e9e7e2f77db25e15e5a6eec75b4a4107d6d8"
 },
 "nbformat": 3,
 "nbformat_minor": 0,
 "worksheets": [
  {
   "cells": [
    {
     "cell_type": "code",
     "collapsed": false,
     "input": [
      "import os, sys\n",
      "parent_folder = os.path.split(os.path.abspath('.'))[0]\n",
      "sys.path.append(parent_folder)\n",
      "from TimeFreqAuditoryScene import *\n",
      "from IPython.display import Audio, display, clear_output\n",
      "from IPython.html import widgets\n",
      "from IPython.html.widgets import interactive\n",
      "%matplotlib inline"
     ],
     "language": "python",
     "metadata": {},
     "outputs": []
    },
    {
     "cell_type": "code",
     "collapsed": false,
     "input": [
      "fs = 44100\n",
      "duration = 0.1\n",
      "scene = Scene()\n",
      "stList = []\n",
      "\n",
      "# declaring interval for sequence of shepard tones\n",
      "k = 2.**(2./12.)\n",
      "# declare gaussian envelope on log frequency\n",
      "genv = GaussianSpectralEnvelope(mu_log=5., sigma_log=2.)\n",
      "\n",
      "# Constructing the scene\n",
      "for i in range(20):\n",
      "    tmp_st = ShepardTone(fb=10.*(k)**i, env=genv, delay=(1.1*duration)*i, duration=duration)\n",
      "    stList.append(tmp_st)\n",
      "scene.List = stList\n",
      "\n",
      "# generate sound\n",
      "x = scene.generate(fs=fs)\n",
      "display(Audio(x, rate=fs, autoplay=True))\n",
      "# draw spectrogram\n",
      "fig = scene.draw_spectrogram()\n",
      "plt.show()"
     ],
     "language": "python",
     "metadata": {},
     "outputs": []
    },
    {
     "cell_type": "code",
     "collapsed": false,
     "input": [
      "scene2 = Scene()\n",
      "factor = 2.**(2./12.)\n",
      "duration = 0.2\n",
      "dt = duration/10.\n",
      "for i in range(50):\n",
      "    start = np.random.rand()\n",
      "    f_start = 200.+500.*np.random.rand()\n",
      "    t_start = np.random.rand()*4.\n",
      "    sweep = Sweep(freqs=[f_start, f_start*factor], delay=dt*i, duration=duration)\n",
      "    scene2.List.append(sweep)\n",
      "\n",
      "\n",
      "x2 = scene2.generate(fs=44100.)\n",
      "display(Audio(x2, rate=fs, autoplay=False))\n",
      "fig2 = scene2.draw_spectrogram()\n",
      "plt.show()"
     ],
     "language": "python",
     "metadata": {},
     "outputs": []
    }
   ],
   "metadata": {}
  }
 ]
}