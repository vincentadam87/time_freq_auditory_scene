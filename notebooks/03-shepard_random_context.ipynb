{
 "metadata": {
  "name": "",
  "signature": "sha256:9fbe88ea1b0b85b08fe0b1bee69d941f87b97c8faca8a844abca9acfae522a94"
 },
 "nbformat": 3,
 "nbformat_minor": 0,
 "worksheets": [
  {
   "cells": [
    {
     "cell_type": "code",
     "collapsed": false,
     "input": [
      "import os, sys\n",
      "import numpy as np\n",
      "parent_folder = os.path.split(os.path.abspath('.'))[0]\n",
      "sys.path.append(parent_folder)\n",
      "from TimeFreqAuditoryScene import *\n",
      "from IPython.display import Audio, display, clear_output\n",
      "from IPython.html import widgets\n",
      "from IPython.html.widgets import interactive\n",
      "%matplotlib inline"
     ],
     "language": "python",
     "metadata": {},
     "outputs": []
    },
    {
     "cell_type": "markdown",
     "metadata": {},
     "source": [
      "## Shepard tones contextual effects (Chambers and Pressnitzer)"
     ]
    },
    {
     "cell_type": "code",
     "collapsed": false,
     "input": [
      "# Parameterization\n",
      "# Global parameters\n",
      "fs = 44100\n",
      "# Shepard tones\n",
      "delay = 1./8.\n",
      "duration = 1./8.\n",
      "fb1 = 12.\n",
      "# declare gaussian envelope on log frequency\n",
      "mu_log=np.log(200)\n",
      "sigma_log=2.\n",
      "genv = GaussianSpectralEnvelope(mu_log=mu_log, sigma_log=sigma_log)"
     ],
     "language": "python",
     "metadata": {},
     "outputs": []
    },
    {
     "cell_type": "markdown",
     "metadata": {},
     "source": [
      "### Context construction\n",
      "\n",
      "The context is build relative to the tritone\n",
      "\n",
      "The frequency axis is cut in semi octave ranges whose bound align to the tones in the tritone\n",
      "\n",
      "Each band is labeled 'up' or 'down' whether it is place directly above or below the tones in the first shepard tone of the tritone\n",
      "\n",
      "The terminology of the label should be understood with respect to the bias it induces"
     ]
    },
    {
     "cell_type": "code",
     "collapsed": false,
     "input": [
      "def up_or_down(type='up', n_context=3, delay_context=0.2):\n",
      "    if type == 'down':\n",
      "        range_context = [7,11] # semitones\n",
      "    elif type == 'up':\n",
      "        range_context = [1,5] # semitones\n",
      "\n",
      "    scene = Scene()\n",
      "\n",
      "\n",
      "    run_time = 0\n",
      "\n",
      "    # Constructing the context\n",
      "    context = []\n",
      "\n",
      "    for i in range(n_context):\n",
      "        st = range_context[0]+np.random.rand(1,)*(range_context[1]-range_context[0])\n",
      "        tmp_st = ShepardTone(fb=fb1*2.**(st/12.), env=genv, delay=run_time, duration=duration)\n",
      "        run_time += duration + delay\n",
      "        context.append(tmp_st)\n",
      "\n",
      "    run_time+=delay_context\n",
      "\n",
      "    tone1 = ShepardTone(fb=fb1, env=genv, delay=run_time, duration=duration)\n",
      "    run_time += duration + delay\n",
      "    tone2 = ShepardTone(fb=fb1*np.sqrt(2.), env=genv, delay=run_time, duration=duration)\n",
      "    scene.List = context +[tone1, tone2]\n",
      "\n",
      "\n",
      "    # draw spectrogram\n",
      "    fig = scene.draw_spectrogram()\n",
      "    plt.show()\n",
      "    # generate sound\n",
      "    x = scene.generate(fs=fs)\n",
      "    print x.shape\n",
      "\n",
      "    display(Audio(x, rate=fs, autoplay=True))\n",
      "    return scene\n",
      "w = interactive(up_or_down, type=('up','down'),n_context=(0,10),delay_context=(0.1,5))\n",
      "display(w)\n"
     ],
     "language": "python",
     "metadata": {},
     "outputs": []
    },
    {
     "cell_type": "code",
     "collapsed": false,
     "input": [
      "type='up'\n",
      "n_context=3\n",
      "delay_context=0.2\n",
      "\n",
      "if type == 'down':\n",
      "    range_context = [7,11] # semitones\n",
      "elif type == 'up':\n",
      "    range_context = [1,5] # semitones\n",
      "\n",
      "scene = Scene()\n",
      "\n",
      "\n",
      "run_time = 0\n",
      "\n",
      "# Constructing the context\n",
      "context = []\n",
      "\n",
      "for i in range(n_context):\n",
      "    st = range_context[0]+np.random.rand(1,)*(range_context[1]-range_context[0])\n",
      "    tmp_st = ShepardTone(fb=fb1*2.**(st/12.), env=genv, delay=run_time, duration=duration)\n",
      "    run_time += duration + delay\n",
      "    context.append(tmp_st)\n",
      "\n",
      "run_time+=delay_context\n",
      "\n",
      "tone1 = ShepardTone(fb=fb1, env=genv, delay=run_time, duration=duration)\n",
      "run_time += duration + delay\n",
      "tone2 = ShepardTone(fb=fb1*np.sqrt(2.), env=genv, delay=run_time, duration=duration)\n",
      "scene.List = context +[tone1, tone2]\n",
      "\n",
      "\n",
      "# draw spectrogram\n",
      "fig = scene.draw_spectrogram()\n",
      "plt.show()\n",
      "# generate sound\n",
      "x = scene.generate(fs=fs)\n",
      "print x.shape\n",
      "\n",
      "display(Audio(x, rate=fs, autoplay=True))"
     ],
     "language": "python",
     "metadata": {},
     "outputs": []
    },
    {
     "cell_type": "code",
     "collapsed": false,
     "input": [
      "scene"
     ],
     "language": "python",
     "metadata": {},
     "outputs": []
    },
    {
     "cell_type": "code",
     "collapsed": false,
     "input": [
      "st = scene.List[0]\n",
      "for item in st.List:\n",
      "    print(item.index, item.freq)"
     ],
     "language": "python",
     "metadata": {},
     "outputs": []
    },
    {
     "cell_type": "code",
     "collapsed": false,
     "input": [],
     "language": "python",
     "metadata": {},
     "outputs": []
    }
   ],
   "metadata": {}
  }
 ]
}