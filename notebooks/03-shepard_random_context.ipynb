{
 "metadata": {
  "name": "",
  "signature": "sha256:423ed636d2d902ec1ec074bf6a403847141b8130ad5f32d37bdb8d823cb3e513"
 },
 "nbformat": 3,
 "nbformat_minor": 0,
 "worksheets": [
  {
   "cells": [
    {
     "cell_type": "code",
     "collapsed": false,
     "input": [
      "import os, sys\n",
      "import numpy as np\n",
      "from TimeFreqAuditoryScene import *\n",
      "from Chambers import *\n",
      "from IPython.display import Audio, display, clear_output\n",
      "from IPython.html import widgets\n",
      "from IPython.html.widgets import interactive\n",
      "%matplotlib inline\n"
     ],
     "language": "python",
     "metadata": {},
     "outputs": []
    },
    {
     "cell_type": "markdown",
     "metadata": {},
     "source": [
      "## Shepard tones contextual effects (Chambers and Pressnitzer)"
     ]
    },
    {
     "cell_type": "code",
     "collapsed": false,
     "input": [
      "# Parameterization\n",
      "# Global parameters\n",
      "fs = 44100\n",
      "# Shepard tones\n",
      "delay = 1./8.\n",
      "duration = 1./8.\n",
      "fb1 = 12.\n",
      "# declare gaussian envelope on log frequency\n",
      "mu_log=np.log(200)\n",
      "sigma_log=2.\n",
      "genv = GaussianSpectralEnvelope(mu_log=mu_log, sigma_log=sigma_log)"
     ],
     "language": "python",
     "metadata": {},
     "outputs": []
    },
    {
     "cell_type": "markdown",
     "metadata": {},
     "source": [
      "### Context construction\n",
      "\n",
      "The context is build relative to the tritone\n",
      "\n",
      "The frequency axis is cut in semi octave ranges whose bound align to the tones in the tritone\n",
      "\n",
      "Each band is labeled 'up' or 'down' whether it is place directly above or below the tones in the first shepard tone of the tritone\n",
      "\n",
      "The terminology of the label should be understood with respect to the bias it induces"
     ]
    },
    {
     "cell_type": "code",
     "collapsed": false,
     "input": [
      "def up_or_down(type='up', n_context=3, delay_context=0.2):\n",
      "    \n",
      "    range_context = [1,5] # semitones\n",
      "    \n",
      "    scene = Scene()\n",
      "    run_time = 0\n",
      "\n",
      "    # Constructing the context\n",
      "    context = Context(fb_T1=fb1,\n",
      "                    n_tones=n_context,\n",
      "                    tone_duration=duration,\n",
      "                    inter_tone_interval=delay,\n",
      "                    env=genv,\n",
      "                    type='chords',\n",
      "                    bias=type,\n",
      "                    range_st=range_context)\n",
      "    \n",
      "    run_time += context.getduration()+delay_context\n",
      "    trt = Tritone(fb=fb1,\n",
      "                  duration_sp=duration,\n",
      "                  delay_sp=delay, env=genv, delay=run_time)\n",
      "    \n",
      "    scene.add([context,trt])\n",
      "\n",
      "    # draw spectrogram\n",
      "    sd = SceneDrawer()\n",
      "    sd.draw(scene)\n",
      "    plt.show()\n",
      "    # generate sound\n",
      "    x = scene.generate(fs=fs)\n",
      "    print x.shape\n",
      "\n",
      "    display(Audio(x, rate=fs, autoplay=True))\n",
      "    return scene\n",
      "\n",
      "w = interactive(up_or_down, \n",
      "type=('up','down'),n_context=(0,10),delay_context=(0.1,5))\n",
      "display(w)\n",
      "\n"
     ],
     "language": "python",
     "metadata": {},
     "outputs": []
    },
    {
     "cell_type": "code",
     "collapsed": false,
     "input": [],
     "language": "python",
     "metadata": {},
     "outputs": []
    }
   ],
   "metadata": {}
  }
 ]
}