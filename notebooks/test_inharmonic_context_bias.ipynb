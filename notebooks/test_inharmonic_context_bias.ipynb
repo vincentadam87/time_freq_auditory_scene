{
 "metadata": {
  "name": "",
  "signature": "sha256:86195df74cd19b84b7c7196a0f7806d0ef3b8717745d8e9189a7efd96de78547"
 },
 "nbformat": 3,
 "nbformat_minor": 0,
 "worksheets": [
  {
   "cells": [
    {
     "cell_type": "code",
     "collapsed": false,
     "input": [
      "import os, sys\n",
      "import copy\n",
      "import numpy as np\n",
      "parent_folder = os.path.split(os.path.abspath('.'))[0]\n",
      "sys.path.append(parent_folder)\n",
      "from TimeFreqAuditoryScene import *\n",
      "from IPython.display import Audio, display, clear_output\n",
      "%matplotlib inline"
     ],
     "language": "python",
     "metadata": {},
     "outputs": []
    },
    {
     "cell_type": "code",
     "collapsed": false,
     "input": [
      "# Parameterization\n",
      "# Global parameters\n",
      "fs = 44100\n",
      "delay = 1./8.\n",
      "duration = 1./8.\n",
      "mu_log=np.log(500)\n",
      "sigma_log=2.\n",
      "genv = GaussianSpectralEnvelope(mu_log=mu_log, sigma_log=sigma_log)\n"
     ],
     "language": "python",
     "metadata": {},
     "outputs": []
    },
    {
     "cell_type": "code",
     "collapsed": false,
     "input": [
      "duration=0.2\n",
      "delay=0.1\n",
      "fb = np.random.rand()*5\n",
      "\n",
      "n_tones = 20\n",
      "intervals_st = np.random.randint(6,12,n_tones)\n",
      "intervals_st2 = 0.5*(intervals_st[0:-1]+intervals_st[1:])\n",
      "\n",
      "print intervals_st[0]/2./12.\n",
      "print intervals_st\n",
      "scene = Scene()\n",
      "\n",
      "\n",
      "\n",
      "run_time = 0.\n",
      "# Constructing the context\n",
      "\n",
      "n_context = 5\n",
      "context = []\n",
      "\n",
      "freqs = fb*2**(np.cumsum(intervals_st/12.))\n",
      "\n",
      "for i in range(n_context):\n",
      "    shift = +np.random.randint(0,np.max(intervals_st)/2)\n",
      "    tmp_chord = Chord(fb=fb,\n",
      "              freqs=freqs*2**(shift/12.),\n",
      "              duration=duration,\n",
      "              env=genv,\n",
      "              delay=run_time)\n",
      "    run_time += duration + delay\n",
      "    context.append(tmp_chord)\n",
      "\n",
      "run_time+=delay\n",
      "\n",
      "\n",
      "\n",
      "tone1 = Chord(fb=fb,\n",
      "              intervals=2.**(intervals_st/12.),\n",
      "              duration=duration,\n",
      "              env=genv,\n",
      "              delay=run_time)\n",
      "run_time+=duration + delay\n",
      "tone2 = Chord(fb=fb*2.**(intervals_st[0]/2./12.),\n",
      "              intervals=2.**(intervals_st2/12.),\n",
      "              duration=duration,\n",
      "              env=genv,\n",
      "              delay=run_time)\n",
      "\n",
      "\n",
      "\n",
      "\n",
      "scene.List=context+[tone1,tone2]\n",
      "\n",
      "\n",
      "# draw spectrogram\n",
      "fig = scene.draw_spectrogram()\n",
      "plt.show()\n",
      "# generate sound\n",
      "x = scene.generate(fs=fs)\n",
      "display(Audio(x, rate=fs, autoplay=True))"
     ],
     "language": "python",
     "metadata": {},
     "outputs": []
    },
    {
     "cell_type": "code",
     "collapsed": false,
     "input": [],
     "language": "python",
     "metadata": {},
     "outputs": []
    }
   ],
   "metadata": {}
  }
 ]
}