{
 "metadata": {
  "name": "",
  "signature": "sha256:a8e8ea76b1b732d7b555416f1d86eb8032b27f56497cd0593f8c582677c82edf"
 },
 "nbformat": 3,
 "nbformat_minor": 0,
 "worksheets": [
  {
   "cells": [
    {
     "cell_type": "code",
     "collapsed": false,
     "input": [
      "import os, sys\n",
      "import numpy as np\n",
      "import random\n",
      "\n",
      "parent_folder = os.path.split(os.path.abspath('.'))[0]\n",
      "sys.path.append(parent_folder)\n",
      "from TimeFreqAuditoryScene import *\n",
      "from Chambers import *\n",
      "\n",
      "from IPython.display import Audio, display, clear_output\n",
      "from IPython.html import widgets\n",
      "from IPython.html.widgets import interactive\n",
      "%matplotlib inline"
     ],
     "language": "python",
     "metadata": {},
     "outputs": []
    },
    {
     "cell_type": "code",
     "collapsed": false,
     "input": [
      "# Generating Sequences of shepard tones in two different ways\n",
      "# - as sequences of shepard tones\n",
      "# - as correlated streams of tones\n",
      "# Both views are equivalent\n",
      "\n",
      "\n",
      "fs = 44100.\n",
      "tone_duration = 0.3\n",
      "n_tones = 5\n",
      "inter_tone_interval = 0.1\n",
      "genv = GaussianSpectralEnvelope(mu=960.,sigma_oct=1.)\n",
      "bias = random.choice(['up','down'])\n",
      "\n",
      "ctx1 = Context(n_tones=n_tones, \n",
      "               inter_tone_interval=inter_tone_interval, \n",
      "               env=genv, \n",
      "               bias=bias, \n",
      "               fb_T1=1.,\n",
      "               type=\"chords\")\n",
      "ctx2 = Context(n_tones=n_tones, \n",
      "               inter_tone_interval=inter_tone_interval,\n",
      "               env=genv, \n",
      "               bias=bias, \n",
      "               fb_T1=1.,\n",
      "               type=\"streams\")\n",
      "            \n",
      "items = [ctx1,ctx2]\n",
      "\n",
      "for item in items:\n",
      "    print(item.TAG)\n",
      "    \n",
      "scene1 = Scene()\n",
      "scene1.List= [ctx1]\n",
      "scene1.draw_spectrogram()\n",
      "plt.show()\n",
      "\n",
      "scene2 = Scene()\n",
      "scene2.List= [ctx2]\n",
      "scene2.draw_spectrogram()\n",
      "plt.show()\n"
     ],
     "language": "python",
     "metadata": {},
     "outputs": []
    },
    {
     "cell_type": "code",
     "collapsed": false,
     "input": [],
     "language": "python",
     "metadata": {},
     "outputs": []
    }
   ],
   "metadata": {}
  }
 ]
}