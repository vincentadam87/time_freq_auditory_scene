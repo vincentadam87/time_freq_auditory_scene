{
 "metadata": {
  "name": "",
  "signature": "sha256:f1d943dfbb3fc40a7426a76e2217e0bd6c276cafabf542886ae11aad54ee4e63"
 },
 "nbformat": 3,
 "nbformat_minor": 0,
 "worksheets": [
  {
   "cells": [
    {
     "cell_type": "code",
     "collapsed": false,
     "input": [
      "import os, sys\n",
      "import numpy as np\n",
      "import random\n",
      "\n",
      "from TimeFreqAuditoryScene import *\n",
      "from Chambers import *\n",
      "\n",
      "from IPython.display import Audio, display, clear_output\n",
      "from IPython.html import widgets\n",
      "from IPython.html.widgets import interactive\n",
      "%matplotlib inline"
     ],
     "language": "python",
     "metadata": {},
     "outputs": []
    },
    {
     "cell_type": "code",
     "collapsed": false,
     "input": [
      "# Generating Sequences of shepard tones in two different ways\n",
      "# - as sequences of shepard tones\n",
      "# - as correlated streams of tones\n",
      "# Both views are equivalent\n",
      "\n",
      "\n",
      "fs = 44100.\n",
      "tone_duration = 0.3\n",
      "n_tones = 5\n",
      "inter_tone_interval = 0.1\n",
      "genv = GaussianSpectralEnvelope(mu=960.,sigma_oct=2)\n",
      "bias = random.choice(['up','down'])\n",
      "\n",
      "ctx1 = Context(n_tones=n_tones, \n",
      "               inter_tone_interval=inter_tone_interval, \n",
      "               env=genv, \n",
      "               bias=bias, \n",
      "               fb_T1=1.,\n",
      "               type=\"chords\")\n",
      "ctx2 = Context(n_tones=n_tones, \n",
      "               inter_tone_interval=inter_tone_interval,\n",
      "               env=genv, \n",
      "               bias=bias, \n",
      "               fb_T1=1.,\n",
      "               type=\"streams\")\n",
      "\n",
      "for ctx in [ctx1,ctx2]:\n",
      "    for i in range(len(ctx.List)):\n",
      "        ctx.List[i].draw_bbox = True\n",
      "        \n",
      "items = [ctx1,ctx2]\n",
      "\n",
      "for item in items:\n",
      "    print(item.TAG)\n",
      "\n",
      "sd = SceneDrawer()\n",
      "    \n",
      "scene1 = Scene()\n",
      "scene1.add(ctx1)\n",
      "sd.draw(scene1)\n",
      "plt.show()\n",
      "\n",
      "scene2 = Scene()\n",
      "scene2.add(ctx)\n",
      "sd.draw(scene2)\n",
      "plt.show()"
     ],
     "language": "python",
     "metadata": {},
     "outputs": []
    }
   ],
   "metadata": {}
  }
 ]
}