{
 "metadata": {
  "name": "",
  "signature": "sha256:8e0898d4de073afaf67c30bcc83fa291d54895c62054d21cb66a1871ddc524a3"
 },
 "nbformat": 3,
 "nbformat_minor": 0,
 "worksheets": [
  {
   "cells": [
    {
     "cell_type": "code",
     "collapsed": false,
     "input": [
      "import os, sys\n",
      "import numpy as np\n",
      "parent_folder = os.path.split(os.path.abspath('.'))[0]\n",
      "sys.path.append(parent_folder)\n",
      "from TimeFreqAuditoryScene import *\n",
      "from IPython.display import Audio, display, clear_output\n",
      "from IPython.html import widgets\n",
      "from IPython.html.widgets import interactive\n",
      "%matplotlib inline"
     ],
     "language": "python",
     "metadata": {},
     "outputs": []
    },
    {
     "cell_type": "code",
     "collapsed": false,
     "input": [
      "fig = plt.figure()\n",
      "ax = fig.add_subplot(1,1,1)\n",
      "sd = SceneDrawer(ax, f_axis='linear')\n",
      "\n",
      "c = [{\"line\":[0,2,100,300]},\n",
      "     {\"box\":[0,1,100,200]},\n",
      "     {\"function\":{\"handle\":lambda x:100*x**2, \"type\":\"frequency\",\n",
      "                 \"start\":0.7,\n",
      "                 \"duration\":1}}]\n",
      "sd.drawCommand(c)"
     ],
     "language": "python",
     "metadata": {},
     "outputs": []
    }
   ],
   "metadata": {}
  }
 ]
}