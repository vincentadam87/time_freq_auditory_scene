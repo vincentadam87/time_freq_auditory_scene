{
 "metadata": {
  "name": "",
  "signature": "sha256:f95635c9ad228b0f1984c32715b1c02168e13fafcebb46ee3c1924c62bf5e981"
 },
 "nbformat": 3,
 "nbformat_minor": 0,
 "worksheets": [
  {
   "cells": [
    {
     "cell_type": "code",
     "collapsed": false,
     "input": [
      "import os, sys\n",
      "import numpy as np\n",
      "parent_folder = os.path.split(os.path.abspath('.'))[0]\n",
      "sys.path.append(parent_folder)\n",
      "from TimeFreqAuditoryScene import *\n",
      "from IPython.display import Audio, display, clear_output\n",
      "from IPython.html import widgets\n",
      "from IPython.html.widgets import interactive\n",
      "%matplotlib inline"
     ],
     "language": "python",
     "metadata": {},
     "outputs": []
    },
    {
     "cell_type": "code",
     "collapsed": false,
     "input": [
      "## Shepard tones contextual effects (Chambers and Pressnitzer)"
     ],
     "language": "python",
     "metadata": {},
     "outputs": []
    },
    {
     "cell_type": "code",
     "collapsed": false,
     "input": [
      "# Parameterization\n",
      "# Global parameters\n",
      "fs = 44100\n",
      "# Shepard tones\n",
      "delay = 1./8.\n",
      "duration = 1./8.\n",
      "mu_log=np.log(200)\n",
      "sigma_log=2.\n",
      "# declare gaussian envelope on log frequency\n",
      "genv = GaussianSpectralEnvelope(mu_log=mu_log, sigma_log=sigma_log)\n",
      "\n",
      "# Context\n",
      "n_context = 5\n",
      "range_context = [7,11] # semitones\n"
     ],
     "language": "python",
     "metadata": {},
     "outputs": []
    },
    {
     "cell_type": "code",
     "collapsed": false,
     "input": [
      "fb1 = 50+20*np.random.rand()\n",
      "fb2 = fb1*np.sqrt(2.)\n",
      "\n",
      "side = (np.random.rand()>0.5)*2-1\n",
      "\n",
      "print side\n",
      "scene = Scene()\n",
      "context = []\n",
      "run_time=0\n",
      "ctx_duration =duration*10\n",
      "\n",
      "\n",
      "\n",
      "def sig(x):\n",
      "    return 1./(1+np.exp(-x))\n",
      "\n",
      "def inst_f(i, fc):\n",
      "    fmod = 10.\n",
      "    return lambda t: (2.**i)*(fc)*(2.**(side*3./12.))*t + 2**i/10.*np.cos(2*np.pi*fmod*t)*3.  \n",
      "\n",
      "# Constructing the context\n",
      "for i in range(8):\n",
      "    context.append(InstantaneousFrequency(f=inst_f(i,fb1),\n",
      "                                    duration=ctx_duration, env=genv))\n",
      "\n",
      "\n",
      "# Constructing the test pair    \n",
      "run_time+=delay+ctx_duration\n",
      "\n",
      "tone1 = ShepardTone(fb=fb1, env=genv, delay=run_time, duration=duration)\n",
      "run_time += duration + delay\n",
      "tone2 = ShepardTone(fb=fb1*np.sqrt(2.), env=genv, delay=run_time, duration=duration)\n",
      "\n",
      "scene.List = context +[tone1, tone2]\n",
      "\n",
      "\n",
      "# draw spectrogram\n",
      "fig = scene.draw_spectrogram()\n",
      "plt.show()\n",
      "# generate sound\n",
      "x = scene.generate(fs=fs)\n",
      "display(Audio(x, rate=fs, autoplay=True))\n"
     ],
     "language": "python",
     "metadata": {},
     "outputs": []
    }
   ],
   "metadata": {}
  }
 ]
}