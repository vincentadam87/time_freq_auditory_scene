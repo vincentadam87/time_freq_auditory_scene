{
 "metadata": {
  "name": "",
  "signature": "sha256:0165da53e3145c59fa368b1abc8da673ae1c4d6c42bd69c6d726002a7ab76064"
 },
 "nbformat": 3,
 "nbformat_minor": 0,
 "worksheets": [
  {
   "cells": [
    {
     "cell_type": "code",
     "collapsed": false,
     "input": [
      "import os, sys\n",
      "import copy\n",
      "import numpy as np\n",
      "from TimeFreqAuditoryScene import *\n",
      "from IPython.display import Audio, display, clear_output\n",
      "%matplotlib inline"
     ],
     "language": "python",
     "metadata": {},
     "outputs": []
    },
    {
     "cell_type": "markdown",
     "metadata": {},
     "source": [
      "## Testing inharmonic ambiguity (ambiguity in terms of proximity in log space)\n",
      "\n",
      "Here, we construct ambiguous pairs of chords equivalent to tritone pairs\n",
      "\n",
      "The main difference is that the interval between tones in the first chord are not in octave difference\n",
      "\n",
      "Intervals are also not equal within a chord\n",
      "\n",
      "### Construction\n",
      "\n",
      "The second chord T2 is constructed from the first one T1, by putting a tone in the middle of consecutives tones of T1 \n"
     ]
    },
    {
     "cell_type": "code",
     "collapsed": false,
     "input": [
      "# Parameterization\n",
      "# Global parameters\n",
      "fs = 44100\n",
      "delay = 1./8.\n",
      "duration = 1./8.\n",
      "mu_log=np.log(500)\n",
      "sigma_log=2.\n",
      "genv = GaussianSpectralEnvelope(mu_log=mu_log, sigma_log=sigma_log)\n"
     ],
     "language": "python",
     "metadata": {},
     "outputs": []
    },
    {
     "cell_type": "code",
     "collapsed": false,
     "input": [
      "duration=0.5\n",
      "delay=0.01\n",
      "fb = np.random.rand()\n",
      "\n",
      "n_tones = 20\n",
      "intervals_st = np.random.randint(10,14,n_tones)\n",
      "intervals_st2 = 0.5*(intervals_st[0:-1]+intervals_st[1:])\n",
      "\n",
      "\n",
      "scene = Scene()\n",
      "\n",
      "tone1 = Chord(fb=fb,\n",
      "              intervals=2.**(intervals_st/12.),\n",
      "              duration=duration,\n",
      "              env=genv)\n",
      "tone2 = Chord(fb=fb*2.**(intervals_st[0]/2./12.),\n",
      "              intervals=2.**(intervals_st2/12.),\n",
      "              duration=duration,\n",
      "              env=genv,\n",
      "              delay=duration + delay)\n",
      "\n",
      "scene.add([tone1,tone2])\n",
      "\n",
      "\n",
      "# draw spectrogram\n",
      "sd = SceneDrawer()\n",
      "sd.draw(scene)\n",
      "plt.show()\n",
      "# generate sound\n",
      "x = scene.generate(fs=fs)\n",
      "display(Audio(x, rate=fs, autoplay=True))"
     ],
     "language": "python",
     "metadata": {},
     "outputs": []
    },
    {
     "cell_type": "code",
     "collapsed": false,
     "input": [],
     "language": "python",
     "metadata": {},
     "outputs": []
    }
   ],
   "metadata": {}
  }
 ]
}