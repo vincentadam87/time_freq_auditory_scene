{
 "metadata": {
  "name": "",
  "signature": "sha256:f5b61ba3179ad195aae763a70a9031b0ddd0b7dfb91d0357329ac7cfc7eb055f"
 },
 "nbformat": 3,
 "nbformat_minor": 0,
 "worksheets": [
  {
   "cells": [
    {
     "cell_type": "code",
     "collapsed": false,
     "input": [
      "import os, sys\n",
      "import numpy as np\n",
      "parent_folder = os.path.split(os.path.abspath('.'))[0]\n",
      "sys.path.append(parent_folder)\n",
      "from TimeFreqAuditoryScene import *\n",
      "from IPython.display import Audio, display, clear_output\n",
      "from IPython.html import widgets\n",
      "from IPython.html.widgets import interactive\n",
      "%matplotlib inline"
     ],
     "language": "python",
     "metadata": {},
     "outputs": []
    },
    {
     "cell_type": "markdown",
     "metadata": {},
     "source": [
      "# Reproducing standard shepard tones from (Shepard 64)"
     ]
    },
    {
     "cell_type": "code",
     "collapsed": false,
     "input": [
      "# Parameterization\n",
      "# Global parameters\n",
      "fs = 44100\n",
      "# Shepard tones\n",
      "delay = 1./8.\n",
      "duration = 1./8.\n",
      "mu_log=np.log(500)\n",
      "sigma_log=2.\n",
      "fb1 = 12.\n",
      "fb2 = fb1*np.sqrt(2.)\n"
     ],
     "language": "python",
     "metadata": {},
     "outputs": []
    },
    {
     "cell_type": "code",
     "collapsed": false,
     "input": [
      "def shepard(fb1, st):\n",
      "    scene = Scene()\n",
      "    # declare gaussian envelope on log frequency\n",
      "    genv = GaussianSpectralEnvelope(mu_log=mu_log, sigma_log=sigma_log)\n",
      "    # Constructing the scene\n",
      "    run_time = 0\n",
      "    tone1 = ShepardTone(fb=fb1, env=genv, delay=run_time, duration=duration)\n",
      "    run_time += duration + delay\n",
      "    tone2 = ShepardTone(fb=fb1*2.**(st/12.), env=genv, delay=run_time, duration=duration)\n",
      "    stList = [tone1, tone2]\n",
      "    scene.List = stList\n",
      "\n",
      "\n",
      "    # draw spectrogram\n",
      "    fig = scene.draw_spectrogram()\n",
      "    plt.show()\n",
      "    # generate sound\n",
      "    x = scene.generate(fs=fs)\n",
      "    display(Audio(x, rate=fs, autoplay=True))\n",
      "    \n",
      "w = interactive(shepard, fb1=(fb1,2*fb1), st=(0,12))\n",
      "display(w)"
     ],
     "language": "python",
     "metadata": {},
     "outputs": []
    },
    {
     "cell_type": "code",
     "collapsed": false,
     "input": [],
     "language": "python",
     "metadata": {},
     "outputs": []
    },
    {
     "cell_type": "code",
     "collapsed": false,
     "input": [],
     "language": "python",
     "metadata": {},
     "outputs": []
    }
   ],
   "metadata": {}
  }
 ]
}