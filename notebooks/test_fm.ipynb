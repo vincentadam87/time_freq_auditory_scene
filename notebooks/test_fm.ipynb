{
 "metadata": {
  "name": "",
  "signature": "sha256:06f6fa891fe0217ecd33b418faecd11934c3dc8f263fe297bc9ca11849afe4dc"
 },
 "nbformat": 3,
 "nbformat_minor": 0,
 "worksheets": [
  {
   "cells": [
    {
     "cell_type": "code",
     "collapsed": false,
     "input": [
      "import os, sys\n",
      "parent_folder = os.path.split(os.path.abspath('.'))[0]\n",
      "sys.path.append(parent_folder)\n",
      "from TimeFreqAuditoryScene import *\n",
      "from IPython.display import Audio, display, clear_output\n",
      "from IPython.html import widgets\n",
      "from IPython.html.widgets import interactive\n",
      "%matplotlib inline"
     ],
     "language": "python",
     "metadata": {},
     "outputs": []
    },
    {
     "cell_type": "code",
     "collapsed": false,
     "input": [
      "fs = 44100\n",
      "duration =20\n",
      "scene = Scene()\n",
      "\n",
      "\n",
      "# Constructing the scene\n",
      "fc =1000.\n",
      "amod = 1.\n",
      "fmod = 5.\n",
      "tone = Tone(freq=fc)\n",
      "f = lambda t: fc*t + amod*np.cos(2*np.pi*fmod*t)\n",
      "f2 = lambda t: 2.*fc*t + amod*np.cos(2*np.pi*fmod*t)\n",
      "#f = lambda t: fc*np.exp(t)\n",
      "\n",
      "genv = GaussianSpectralEnvelope(mu_log=5., sigma_log=2.)\n",
      "shep_risset = ShepardRisset(fb=1.1, env=genv, duration=duration, k=0.2)\n",
      "inst_f = InstantaneousFrequency(f=f,duration=duration, env=genv)\n",
      "inst_f2 = InstantaneousFrequency(f=f2,duration=duration, env=genv)\n",
      "\n",
      "scene.List=[ shep_risset]\n",
      "\n",
      "# generate sound\n",
      "x = scene.generate(fs=fs)\n",
      "display(Audio(x, rate=fs, autoplay=True))\n",
      "fig = scene.draw_spectrogram()\n",
      "plt.show()"
     ],
     "language": "python",
     "metadata": {},
     "outputs": []
    },
    {
     "cell_type": "code",
     "collapsed": false,
     "input": [],
     "language": "python",
     "metadata": {},
     "outputs": []
    },
    {
     "cell_type": "code",
     "collapsed": false,
     "input": [],
     "language": "python",
     "metadata": {},
     "outputs": []
    },
    {
     "cell_type": "code",
     "collapsed": false,
     "input": [],
     "language": "python",
     "metadata": {},
     "outputs": []
    }
   ],
   "metadata": {}
  }
 ]
}