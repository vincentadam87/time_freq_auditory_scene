{
 "metadata": {
  "name": "",
  "signature": "sha256:b76998e06d4dca3636e90dbca9244d84ed23e1ab036435d2c384fb3cfd66c923"
 },
 "nbformat": 3,
 "nbformat_minor": 0,
 "worksheets": [
  {
   "cells": [
    {
     "cell_type": "code",
     "collapsed": false,
     "input": [
      "import os, sys\n",
      "\n",
      "from TimeFreqAuditoryScene import *\n",
      "from IPython.display import Audio, display, clear_output\n",
      "from IPython.html import widgets\n",
      "from IPython.html.widgets import interactive\n",
      "%matplotlib inline"
     ],
     "language": "python",
     "metadata": {},
     "outputs": []
    },
    {
     "cell_type": "code",
     "collapsed": false,
     "input": [
      "fs = 44100\n",
      "duration =20\n",
      "scene = Scene()\n",
      "\n",
      "# Constructing the scene\n",
      "fc =1000.\n",
      "amod = 1.\n",
      "fmod = 5.\n",
      "tone = Tone(freq=fc)\n",
      "f = lambda t: fc*t + amod*np.cos(2*np.pi*fmod*t)\n",
      "f2 = lambda t: 2.*fc*t + amod*np.cos(2*np.pi*fmod*t)\n",
      "#f = lambda t: fc*np.exp(t)\n",
      "\n",
      "genv = GaussianSpectralEnvelope(mu=960, sigma_oct=1.)\n",
      "shep_risset = ShepardRisset(fb=1.1, env=genv, duration=duration, k=-.05)\n",
      "inst_f = InstantaneousFrequency(phase=f,duration=duration, env=genv)\n",
      "inst_f2 = InstantaneousFrequency(phase=f2,duration=duration, env=genv)\n",
      "\n",
      "scene.add( shep_risset)\n",
      "\n",
      "# generate sound\n",
      "x = scene.generate(fs=fs)\n",
      "display(Audio(x, rate=fs, autoplay=True))\n",
      "sd = SceneDrawer()\n",
      "sd.draw(scene)\n",
      "plt.show()"
     ],
     "language": "python",
     "metadata": {},
     "outputs": []
    },
    {
     "cell_type": "code",
     "collapsed": false,
     "input": [
      "shepardfm = ShepardFM(fb=1.2,duration=1,amod=0.2,fmod=50., env=genv)\n",
      "scene = Scene()\n",
      "scene.List=[ shepardfm]\n",
      "x = scene.generate(fs=fs)\n",
      "display(Audio(x, rate=fs, autoplay=True))\n",
      "sd = SceneDrawer()\n",
      "sd.draw(scene)\n",
      "plt.show()"
     ],
     "language": "python",
     "metadata": {},
     "outputs": []
    },
    {
     "cell_type": "code",
     "collapsed": false,
     "input": [],
     "language": "python",
     "metadata": {},
     "outputs": []
    }
   ],
   "metadata": {}
  }
 ]
}